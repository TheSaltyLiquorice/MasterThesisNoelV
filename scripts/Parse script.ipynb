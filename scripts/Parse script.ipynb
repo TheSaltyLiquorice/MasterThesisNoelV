{
 "cells": [
  {
   "cell_type": "code",
   "execution_count": null,
   "metadata": {},
   "outputs": [],
   "source": [
    "import re\n",
    "import os\n",
    "import numpy as np\n",
    "import glob\n",
    "from tqdm import tqdm\n",
    "import pandas as pd\n",
    "from subprocess import Popen, PIPE, call, check_call\n",
    "import datetime\n",
    "import shutil\n",
    "from datetime import datetime\n",
    "import time\n",
    "\n",
    "from help_functions import replace_gpr #user def\n",
    "from lut import tests #user def \n"
   ]
  },
  {
   "cell_type": "code",
   "execution_count": 570,
   "metadata": {},
   "outputs": [],
   "source": [
    "def csr_information_present(sim_csr,rtl_csr):\n",
    "    arr = np.empty((sim_csr.count(),2),dtype=int)\n",
    "    count = 0\n",
    "    for idx, value in sim_csr.items():\n",
    "        #print(\"idx = \"+str(idx)+\"\\n-------------------------------\")\n",
    "        for sub_idx, sub_val in enumerate(value):\n",
    "            csr_key = sub_val.split(\":\")[0]\n",
    "            cmp = csr_key == rtl_csr[idx].split(\":\")[0]\n",
    "            arr[count] = [str(idx),bool(cmp)]\n",
    "        count+=1\n",
    "    return pd.Series(data=arr[:,1], index=arr[:,0]).astype(bool)\n",
    "def compare_csr(sim_csr,rtl_csr):\n",
    "    count = 0\n",
    "    for idx, scsr in sim_csr.items():\n",
    "        if(scsr.count(rtl_csr[idx]) == 1):\n",
    "            count+=1\n",
    "    return count"
   ]
  },
  {
   "cell_type": "markdown",
   "metadata": {},
   "source": [
    "## General defines, paths etc"
   ]
  },
  {
   "cell_type": "code",
   "execution_count": 269,
   "metadata": {},
   "outputs": [
    {
     "name": "stdout",
     "output_type": "stream",
     "text": [
      "Running the test: riscv_illegal_instr_test\n"
     ]
    }
   ],
   "source": [
    "transcript_path = os.environ['NOELV']\n",
    "grlib_path = os.environ['GRLIB']\n",
    "riscv_dv = os.environ['r_dv']+\"/\"\n",
    "\n",
    "test_number = 7\n",
    "print(\"Running the test: {}\".format(tests[test_number]))\n",
    "now = datetime.now()\n",
    "current_time = now.strftime(\"%Y-%m-%d\")\n",
    "finish_after = int(1e5)\n"
   ]
  },
  {
   "cell_type": "markdown",
   "metadata": {},
   "source": [
    "## Generate RISCV-DV tests and run OVPsim\n",
    "- Tests that work: 0\n",
    "- Tests that sometimes timeout but sometimes doesn't: 1, 2, 10\n",
    "- Tests that doesn't run at all (sometimes): 1, 2, 5, 6, 8, 9 (Never enters program after running the bootloader)\n",
    "- Test 7 seems to outright fail"
   ]
  },
  {
   "cell_type": "code",
   "execution_count": 272,
   "metadata": {},
   "outputs": [
    {
     "name": "stdout",
     "output_type": "stream",
     "text": [
      "OVPsim timeout = False\n"
     ]
    }
   ],
   "source": [
    "param = \"python3 run.py --custom_target target/rv64_noelv/ --iss ovpsim --simulator riviera --isa rv64gc --mabi lp64 --test \"+tests[test_number]+\" --iterations 1\"\n",
    "process = Popen('cd '+riscv_dv+' && source ~/.bashrc && module load aldec/riviera/2021.10 &&'+param, shell=True, stdout=PIPE, stderr=PIPE)\n",
    "\n",
    "stdout, stderr = process.communicate()\n",
    "timeout = False\n",
    "error = stderr.decode('ascii')\n",
    "\n",
    "if(error.find(\"You do not have a valid license to run Riviera-PRO\") == -1):\n",
    "    path = glob.glob(riscv_dv+\"out_\"+current_time+\"/ovpsim_sim/\"+tests[test_number]+\"*.log\")    \n",
    "    with open(path[0],\"r\") as f:\n",
    "        timeout = f.read().find(\"Info \"+str(finish_after)+\":\") != -1\n",
    "        f.close()\n",
    "else:\n",
    "    raise RuntimeError(\"License not found for Riviera PRO\")\n",
    "\n",
    "instr_cnt = finish_after+41+2 #+41 to account for bootloader, +2 for counter trailing\n",
    "arg_timeout = \"-gdisas=1 -gfinish_after_en=1 -gfinish_after=\"+str(instr_cnt)\n",
    "arg_no_timeout = \"-gdisas=1 -gfinish_after_en=0 -gfinish_after=0\"\n",
    "arg = arg_timeout if timeout else arg_no_timeout\n",
    "\n",
    "with open(grlib_path+\"/designs/noelv-generic/Makefile\",\"r\") as f:\n",
    "    txt = f.read()\n",
    "    tmp = re.sub(\"(?<=VSIMOPT=).*\",arg,txt)\n",
    "    f.close()\n",
    "    f = open(grlib_path+\"/designs/noelv-generic/Makefile\",\"w\")\n",
    "    f.write(tmp)\n",
    "    f.close()\n",
    "    \n",
    "print(\"OVPsim timeout = {}\".format(timeout))"
   ]
  },
  {
   "cell_type": "markdown",
   "metadata": {},
   "source": [
    "## Run RTL simulation\n"
   ]
  },
  {
   "cell_type": "code",
   "execution_count": 273,
   "metadata": {},
   "outputs": [
    {
     "name": "stdout",
     "output_type": "stream",
     "text": [
      "Copied ['/home/jonathanjonsson/MasterThesis/riscv-dv/out_2022-03-01/asm_test/riscv_illegal_instr_test_0.srec'] to the NOELV directory\n",
      "RTL Simulation Success\n"
     ]
    },
    {
     "data": {
      "text/plain": [
       "'/home/jonathanjonsson/MasterThesis/riscv-dv/out_2022-03-01/rtl_log/riscv_illegal_instr_test_0.rtl.log'"
      ]
     },
     "execution_count": 273,
     "metadata": {},
     "output_type": "execute_result"
    }
   ],
   "source": [
    "srec_tests = glob.glob(riscv_dv+\"out_\"+current_time+\"/asm_test/\"+tests[test_number]+\"*.srec\")\n",
    "shutil.copy(srec_tests[0], transcript_path+'ram.srec') #copy the current test to the sim dir\n",
    "print(\"Copied {} to the NOELV directory\".format(srec_tests))\n",
    "#launch sim\n",
    "process = Popen('cd '+transcript_path+' && source ~/.bashrc && module add mentor/questasim/2021.3 && make sim-run', shell=True, stdout=PIPE, stderr=PIPE)\n",
    "#process.wait()\n",
    "stdout, stderr = process.communicate()\n",
    "txt = stdout.decode('ascii')\n",
    "if(txt.find(\"# ** Failure: *** IU in error mode, simulation halted ***\") > -1 or txt.find(\"Test finished after\") > -1 or txt.find(\"** Failure: Assertion violation.\")):\n",
    "    print(\"RTL Simulation Success\")\n",
    "else:\n",
    "    print(\"RTL Simulation Failed\")\n",
    "\n",
    "if not os.path.exists(riscv_dv+\"out_\"+current_time+\"/rtl_log/\"):\n",
    "    os.mkdir(riscv_dv+\"out_\"+current_time+\"/rtl_log/\")\n",
    "shutil.copy(transcript_path+\"transcript\", riscv_dv+\"out_\"+current_time+\"/rtl_log/\"+tests[test_number]+\"_\"+re.search(\"\\d*(?=.srec)\",str(srec_tests)).group(0)+\".rtl.log\")"
   ]
  },
  {
   "cell_type": "markdown",
   "metadata": {},
   "source": [
    "## Parse RTL transcript and create rtl_log"
   ]
  },
  {
   "cell_type": "code",
   "execution_count": 274,
   "metadata": {},
   "outputs": [
    {
     "name": "stderr",
     "output_type": "stream",
     "text": [
      "100%|██████████| 22010/22010 [00:02<00:00, 7757.34it/s]\n",
      "100%|██████████| 18116/18116 [00:00<00:00, 975341.91it/s]\n"
     ]
    }
   ],
   "source": [
    "lookup = re.compile(\"#\\s*\\d*\\s*ns\\s*:\\sC\\d I\\d : \\d*\\s*\\[\\d\\] @0x[0-9a-fA-F]{16} \\(0x[0-9a-fA-F]{4,8}\\)\\s*.*\")\n",
    "match = 0\n",
    "f = open(transcript_path+\"transcript\")\n",
    "transcript = f.readlines()\n",
    "f.close()\n",
    "\n",
    "#regex to extract content relevant to rtl sim\n",
    "error_re = re.compile(\"[eE]rror | [wW]arning | [fF]ailure\")\n",
    "pc_csr_status_tval_re = re.compile(\"[0-9a-fA-F]{16}|X{16}\")\n",
    "binary_re = re.compile(\"(?<=(\\(0x))[a0-z9]{4,8}(?=\\))\")\n",
    "instruction_re = re.compile(\"\\w{2,8}(?=(\\s\\w{2,3},))|(\\w*\\.[a-z])|nop|mret|ecall|fence|unknown instruction|ebreak\")\n",
    "instr_str_re = re.compile(\"\\w*\\s\\w*,\\s\\w*,\\s-?\\w*(?=\\s*W)|\\w*(?=\\s*W)|\\w*\\s\\w*,\\s\\w*(?=\\s*W)\") #ugly\n",
    "gpr_re = re.compile(\"(?<=([a-z]{2}\\s))\\w{2,3}(?=,)\")\n",
    "op1_re = re.compile(\"(?<=,\\s)\\w{1,8}((?=,)|(?=\\s*W))|0\\(\\w{2,3}\\)\") \n",
    "op2_re = re.compile(\"(\\w*,\\s\\w*,\\s-?\\w*)\") #use split to get op2, don't have a nicer regex atm\n",
    "csr_re = re.compile(\"\\w*(?=\\s*=\\w*\\]\\[\\d\\]\\sIPC)\")\n",
    "mode_re = re.compile(\"(?<=PRV\\[)\\d*\")\n",
    "valid_re = re.compile(\"(?<=\\[)\\d(?=\\]\\s@)\")\n",
    "exception_re = re.compile(\"(?<=\\[)\\d(?=\\]\\sPRV)\")\n",
    "\n",
    "pc = []\n",
    "binary = []\n",
    "instr = []\n",
    "instr_str = []\n",
    "gpr = []\n",
    "csr = []\n",
    "gpr_val = []\n",
    "op_0 = []\n",
    "op_1 = []\n",
    "status = []\n",
    "tval = []\n",
    "mode = []\n",
    "exception = []\n",
    "valid = []\n",
    "\n",
    "\n",
    "for line in tqdm(transcript):\n",
    "    if(re.search(lookup,line)): #check that line conforms to format then extract information\n",
    "        valid.append(re.search(valid_re, line).group(0))\n",
    "                \n",
    "        pc_i = re.search(pc_csr_status_tval_re, line)\n",
    "        if(pc_i):\n",
    "            pc.append(pc_i.group(0))\n",
    "        else:\n",
    "            print(line)\n",
    "            break\n",
    "        binary.append(re.search(binary_re, line).group(0))\n",
    "        instruction = re.search(instruction_re, line)\n",
    "        if(instruction):\n",
    "            instr.append(instruction.group(0))\n",
    "        else:\n",
    "            raise RuntimeError(\"Instruction not present in RegEx\\n\"+line)\n",
    "        instr_str.append(re.search(instr_str_re, line).group(0))\n",
    "        match3 = re.search(gpr_re, line)\n",
    "        if(match3):\n",
    "            gpr.append(match3.group(0))\n",
    "        else:\n",
    "            gpr.append(\"\")\n",
    "        match4 = re.search(op1_re, line)\n",
    "        if(match4):\n",
    "            op_0.append(match4.group(0))\n",
    "        else:\n",
    "            op_0.append(\"\")\n",
    "        match5 = re.search(op2_re,line)\n",
    "        if(match5):\n",
    "            op_1.append(match5.group(0).split(\", \")[2])\n",
    "        else:\n",
    "            op_1.append(\"\")\n",
    "        match6 = re.search(csr_re,line)\n",
    "        if(match6):\n",
    "            csr.append(match6.group(0))\n",
    "        else:\n",
    "            print(line)\n",
    "            raise RuntimeError(\"CSR RegEx not complete\")\n",
    "\n",
    "        match7 = re.findall(pc_csr_status_tval_re,line)\n",
    "        if(len(match7) == 3):\n",
    "            print(match7)\n",
    "            print(line)\n",
    "        gpr_val.append(match7[1])\n",
    "        status.append(match7[2])\n",
    "        tval.append(match7[3])\n",
    "        mode.append(re.search(mode_re,line).group(0))\n",
    "        exception.append(re.search(exception_re,line).group(0))\n",
    "\n",
    "\n",
    "\n",
    "columns = ['pc','instr','gpr','csr','binary','mode','instr_str','operand','valid','exception']\n",
    "rtl_log = pd.DataFrame(columns=columns)\n",
    "rtl_log[columns[0]] = pc\n",
    "rtl_log[columns[1]] = instr\n",
    "rtl_log[columns[2]] = pd.Series(gpr) +\":\"+ pd.Series(gpr_val)\n",
    "rtl_log[columns[3]] = pd.Series(csr) +\":\"+ pd.Series(status)\n",
    "rtl_log[columns[4]] = binary\n",
    "rtl_log[columns[5]] = mode\n",
    "rtl_log[columns[6]] = instr_str\n",
    "rtl_log[columns[7]] = pd.Series(gpr)+\",\"+pd.Series(op_0)+\",\"+pd.Series(op_1)\n",
    "rtl_log[columns[8]] = valid\n",
    "rtl_log[columns[9]] = exception\n",
    "#log[columns[9]] = tval\n",
    "rtl_log = rtl_log[41:].reset_index(drop=True) #41 is where the bootloader ends\n",
    "def replace_gpr(pd_series,gpr,re_gpr):\n",
    "    tmp = []\n",
    "    for line in tqdm(pd_series):\n",
    "        split_line = line.split(\":\")\n",
    "        if(len(split_line[0]) > 0 and split_line[0] == gpr):\n",
    "            split_line[0] = re_gpr\n",
    "        ln = split_line[0]+\":\"+split_line[1]\n",
    "        tmp.append(ln)\n",
    "    return pd.Series(tmp)\n",
    "rtl_log.gpr = replace_gpr(rtl_log.gpr, 'fp','s0') #replace fp with s0 to keep convention consistent\n",
    "rtl_log['valid'] = rtl_log['valid'].astype('int32') #not true when we have an exception (ecall for instance)\n",
    "#rtl_log = rtl_log[rtl_log.valid == 1].reset_index(drop=True) #only keep valid instructions\n",
    "rtl_log = rtl_log[~((rtl_log['instr'] == \"addi\") & (rtl_log.shift(1)['instr'] == \"mret\") & (rtl_log['valid'] == 0))].reset_index(drop=True) #deal with gaislers addi injection after mret, this removes all of those lines\n"
   ]
  },
  {
   "cell_type": "markdown",
   "metadata": {},
   "source": [
    "## Convert OVPsimlog to csv"
   ]
  },
  {
   "cell_type": "code",
   "execution_count": 275,
   "metadata": {},
   "outputs": [],
   "source": [
    "logs = glob.glob(riscv_dv+\"out_\"+current_time+\"/ovpsim_sim/\"+tests[test_number]+\"*.log\")\n",
    "csvs = glob.glob(riscv_dv+\"out_\"+current_time+\"/ovpsim_sim/\"+tests[test_number]+\"*.csv\")\n",
    "for log in logs:\n",
    "    process = Popen(\"python3 \"+riscv_dv+\"scripts/ovpsim_log_to_trace_csv.py --dont_truncate_after_first_ecall --log \"+log+ \" --csv \"+log.strip(\".log\")+\".csv\", shell=True, stdout=PIPE, stderr=PIPE)\n",
    "    stdout, stderr = process.communicate()\n",
    "csvs = glob.glob(riscv_dv+\"out_\"+current_time+\"/ovpsim_sim/\"+tests[test_number]+\"*.csv\")\n",
    "sim_log = pd.read_csv(csvs[0])\n",
    "sim_log['mode'] = sim_log['mode'].astype('Int64')\n",
    "sim_log['gpr'] = sim_log['gpr'].astype('str')\n",
    "sim_log['csr'] = sim_log['csr'].astype('str')\n",
    "\n",
    "if(not timeout):\n",
    "    sim_log = sim_log.truncate(after=len(sim_log)-2) #exit sequence slightly different between the rtl_sim and ovpsim"
   ]
  },
  {
   "cell_type": "markdown",
   "metadata": {},
   "source": [
    "## Compare series to see if run was successfull"
   ]
  },
  {
   "cell_type": "code",
   "execution_count": 649,
   "metadata": {},
   "outputs": [
    {
     "name": "stdout",
     "output_type": "stream",
     "text": [
      "Both logs are equally sized\n",
      "GPR, Binary, PC and CSR contents match\n",
      "Ignored 96.7% CSR and 49.4% of GPR comparisons\n"
     ]
    }
   ],
   "source": [
    "#Truncation\n",
    "if(abs(len(sim_log)-len(rtl_log) < 100)):\n",
    "    if(len(sim_log) < len(rtl_log)):\n",
    "        rtl_log=rtl_log.truncate(after=len(sim_log)-1)\n",
    "        print(\"Truncating rtl_log to {} elements to meet size of sim_log\".format(len(rtl_log)))\n",
    "    elif(len(sim_log) == len(rtl_log)):\n",
    "        print(\"Both logs are equally sized\")\n",
    "\n",
    "    else:\n",
    "        sim_log=sim_log.truncate(after=len(rtl_log)-1)\n",
    "        print(\"Truncating sim_log to {} elements to meet size of rtl_log\".format(len(rtl_log)))\n",
    "else:\n",
    "    raise RuntimeError(\"Lengths of series differs with \"+str(abs(len(sim_log)-len(rtl_log)))+\" elements\") \n",
    "\n",
    "\n",
    "#Csr match conditions\n",
    "mt_csr_0 = sim_log.csr != \"nan\"\n",
    "mt_csr_1 = csr_information_present(sim_csr,rtl_csr) #ignore csr comparisons where for example mstatus is present the iss but not in the rtl log\n",
    "\n",
    "\n",
    "matching_gpr = len(sim_log[(sim_log.gpr != \"nan\") & (rtl_log.gpr == sim_log.gpr)])\n",
    "nan_cnt_gpr = len(sim_log[sim_log.gpr == \"nan\"])\n",
    "\n",
    "\n",
    "rtl_csr = rtl_log[(rtl_log.csr.ne(sim_log.csr) & mt_csr_0)].csr #these are the ones we can't exclude directly\n",
    "sim_csr = sim_log[rtl_log.csr.ne(sim_log.csr) & mt_csr_0].csr.str.split(\";\") \n",
    "csr_match_count = compare_csr(sim_csr, rtl_csr)\n",
    "\n",
    "#these csrs only contain one update to the csr, however, where ovpsim reports more than one update we use csr_match_count\n",
    "matching_csr = sim_log[((sim_log.csr != \"nan\")) & (rtl_log.csr.eq(sim_log.csr))].csr.count() + csr_match_count\n",
    "nan_cnt_csr = sim_log[(sim_log.csr == \"nan\")].csr.count() + mt_csr_1[mt_csr_1 == False].count()\n",
    "\n",
    "\n",
    "tot_cnt_gpr = matching_gpr + nan_cnt_gpr\n",
    "gpr_match = (tot_cnt_gpr == len(rtl_log.gpr))\n",
    "binary_match = rtl_log.binary.eq(sim_log.binary).all()\n",
    "pc_match = rtl_log.pc.eq(sim_log.pc).all()\n",
    "\n",
    "csr_match = (matching_csr+nan_cnt_csr == len(rtl_log.csr))\n",
    "\n",
    "if(gpr_match and binary_match and pc_match and csr_match):\n",
    "    print(\"GPR, Binary, PC and CSR contents match\\nIgnored {:.1%} CSR and {:.1%} of GPR comparisons\".format(nan_cnt_csr/rtl_log.csr.count(),nan_cnt_gpr/rtl_log.gpr.count()))\n",
    "else:\n",
    "    print(\"PC match: {}\\nBinary match: {}\\nGPR match: {}\\nCSR match: {}\\n {:.1%} CSR and {:.1%} GPR comparisons\".format(pc_match,binary_match,gpr_match,csr_match,nan_cnt_csr/rtl_log.csr.count(),nan_cnt_gpr/rtl_log.gpr.count()))"
   ]
  },
  {
   "cell_type": "code",
   "execution_count": null,
   "metadata": {},
   "outputs": [],
   "source": [
    "rtl_log[rtl_log.csr.ne(sim_log.csr) & sim_log.csr.ne(\"nan\")]"
   ]
  },
  {
   "cell_type": "code",
   "execution_count": null,
   "metadata": {},
   "outputs": [],
   "source": [
    "sim_log[rtl_log.csr.ne(sim_log.csr) & sim_log.csr.ne(\"nan\")]"
   ]
  }
 ],
 "metadata": {
  "kernelspec": {
   "display_name": "Python 3",
   "language": "python",
   "name": "python3"
  },
  "language_info": {
   "codemirror_mode": {
    "name": "ipython",
    "version": 3
   },
   "file_extension": ".py",
   "mimetype": "text/x-python",
   "name": "python",
   "nbconvert_exporter": "python",
   "pygments_lexer": "ipython3",
   "version": "3.6.12"
  }
 },
 "nbformat": 4,
 "nbformat_minor": 4
}
