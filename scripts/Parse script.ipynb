{
 "cells": [
  {
   "cell_type": "code",
   "execution_count": 1,
   "metadata": {},
   "outputs": [],
   "source": [
    "import re\n",
    "import os\n",
    "import numpy as np\n",
    "import glob\n",
    "from colorama import Fore, Back, Style\n",
    "from tqdm import tqdm\n",
    "import pandas as pd\n",
    "from subprocess import Popen, PIPE, call, check_call\n",
    "import datetime\n",
    "import shutil\n",
    "from datetime import datetime\n",
    "import time\n",
    "\n",
    "from help_functions import replace_gpr #user def\n",
    "from lut import tests #user def \n"
   ]
  },
  {
   "cell_type": "markdown",
   "metadata": {},
   "source": [
    "## General defines, paths etc"
   ]
  },
  {
   "cell_type": "code",
   "execution_count": 58,
   "metadata": {},
   "outputs": [
    {
     "name": "stdout",
     "output_type": "stream",
     "text": [
      "Running the test: riscv_loop_test\n"
     ]
    }
   ],
   "source": [
    "transcript_path = os.environ['NOELV']\n",
    "grlib_path = os.environ['GRLIB']\n",
    "riscv_dv = os.environ['r_dv']\n",
    "\n",
    "test_number = 3\n",
    "print(\"Running the test: {}\".format(tests[test_number]))\n",
    "now = datetime.now()\n",
    "current_time = now.strftime(\"%Y-%m-%d\")"
   ]
  },
  {
   "cell_type": "markdown",
   "metadata": {},
   "source": [
    "## Generate RISCV-DV tests and run OVPsim\n",
    "- Tests that work: 0\n",
    "- Tests that sometimes timeout but sometimes doesn't: 1, 2, 10\n",
    "- Tests that fail due to add instruction after **mret**: 3, 4\n",
    "- Tests that doesn't run at all: 5, 6 (Never enters program after running the bootloader)\n",
    "- Test 7 seems to outright fail\n",
    "- Test 8,9 is maybe not applicable since ebreak is handled differently between ovpSIM and NOEL-V"
   ]
  },
  {
   "cell_type": "code",
   "execution_count": 27,
   "metadata": {},
   "outputs": [
    {
     "name": "stdout",
     "output_type": "stream",
     "text": [
      "OVPsim timed out\n"
     ]
    }
   ],
   "source": [
    "param = \"python3 run.py --custom_target target/rv64_noelv/ --iss ovpsim --simulator riviera --isa rv64gc --mabi lp64 --test \"+tests[test_number]+\" --iterations 1\"\n",
    "process = Popen('cd '+riscv_dv+' && source ~/.bashrc && module load aldec/riviera/2021.10 &&'+param, shell=True, stdout=PIPE, stderr=PIPE)\n",
    "#process.wait()\n",
    "stdout, stderr = process.communicate()\n",
    "timeout = False\n",
    "error = stderr.decode('ascii')\n",
    "\n",
    "if(error.find(\"You do not have a valid license to run Riviera-PRO\") == -1):\n",
    "    if(error.find(\"Timeout\") == -1):\n",
    "        print(\"No timeout\")\n",
    "        timeout = False\n",
    "    else:\n",
    "        print(\"OVPsim timed out\")\n",
    "        timeout = True\n",
    "else:\n",
    "    raise RuntimeError(\"License not found for Riviera PRO\")\n",
    "\n",
    "no_instr_timeout = 1000000\n",
    "clock_period = 10 #ns\n",
    "ipc_compensate = 1.2 #compensate with 20% extra simulation time in case ipc != 1\n",
    "\n",
    "no_timeout_arg = ['run -all\\n', 'quit\\n', '\\n']\n",
    "timeout_arg = ['run '+str(int(no_instr_timeout*clock_period*ipc_compensate))+'ns\\n', 'quit\\n', '\\n']\n",
    "\n",
    "with open(grlib_path+\"/bin/runvsim.do\",\"w\") as f:\n",
    "    if(timeout):\n",
    "        f.writelines(timeout_arg)\n",
    "    else:\n",
    "        f.writelines(no_timeout_arg)\n",
    "f.close()\n",
    "    "
   ]
  },
  {
   "cell_type": "markdown",
   "metadata": {},
   "source": [
    "## Run RTL simulation\n",
    "### For now only consider tests generated today\n",
    "- How do we break simulation if we have a timeout in OVPsim?\n",
    "    - It seems like execution time scales quite well to number of instructions*clock_period, add 20% extra sim time to compensate for IPC differences"
   ]
  },
  {
   "cell_type": "code",
   "execution_count": 28,
   "metadata": {},
   "outputs": [
    {
     "name": "stdout",
     "output_type": "stream",
     "text": [
      "Copied ['/home/jonathanjonsson/MasterThesis/riscv-dv/out_2022-02-24/asm_test/riscv_loop_test_0.srec'] to the NOELV directory\n",
      "RTL Simulation failed\n"
     ]
    },
    {
     "data": {
      "text/plain": [
       "'/home/jonathanjonsson/MasterThesis/riscv-dv/out_2022-02-24/rtl_log/riscv_loop_test_0.log'"
      ]
     },
     "execution_count": 28,
     "metadata": {},
     "output_type": "execute_result"
    }
   ],
   "source": [
    "srec_tests = glob.glob(riscv_dv+\"out_\"+current_time+\"/asm_test/\"+tests[test_number]+\"*.srec\")\n",
    "shutil.copy(srec_tests[0], transcript_path+'ram.srec') #copy the current test to the sim dir\n",
    "print(\"Copied {} to the NOELV directory\".format(srec_tests))\n",
    "\n",
    "#launch sim\n",
    "process = Popen('cd '+transcript_path+' && source ~/.bashrc && module add mentor/questasim/2021.3 && make sim-run', shell=True, stdout=PIPE, stderr=PIPE)\n",
    "#process.wait()\n",
    "stdout, stderr = process.communicate()\n",
    "if(stdout.decode('ascii').find(\"# ** Failure: *** IU in error mode, simulation halted ***\") == -1):\n",
    "    print(\"RTL Simulation failed\")\n",
    "\n",
    "if not os.path.exists(riscv_dv+\"out_\"+current_time+\"/rtl_log/\"):\n",
    "    os.mkdir(riscv_dv+\"out_\"+current_time+\"/rtl_log/\")\n",
    "shutil.copy(transcript_path+\"transcript\", riscv_dv+\"out_\"+current_time+\"/rtl_log/\"+tests[test_number]+\"_\"+re.search(\"\\d*(?=.srec)\",str(srec_tests)).group(0)+\".log\")"
   ]
  },
  {
   "cell_type": "markdown",
   "metadata": {},
   "source": [
    "## Parse RTL transcript and create rtl_log"
   ]
  },
  {
   "cell_type": "code",
   "execution_count": 57,
   "metadata": {},
   "outputs": [
    {
     "name": "stderr",
     "output_type": "stream",
     "text": [
      "100%|██████████| 945952/945952 [02:04<00:00, 7572.53it/s]\n",
      "100%|██████████| 942364/942364 [00:00<00:00, 1072147.59it/s]\n"
     ]
    }
   ],
   "source": [
    "lookup = re.compile(\"#\\s*\\d*\\s*ns\\s*:\\sC\\d I\\d : \\d*\\s*\\[\\d\\] @0x[0-9a-fA-F]{16} \\(0x[0-9a-fA-F]{4,8}\\)\\s*.*\")\n",
    "match = 0\n",
    "f = open(transcript_path+\"transcript\")\n",
    "transcript = f.readlines()\n",
    "f.close()\n",
    "\n",
    "#regex to extract content relevant to rtl sim\n",
    "error_re = re.compile(\"[eE]rror | [wW]arning | [fF]ailure\")\n",
    "pc_csr_status_tval_re = re.compile(\"[0-9a-fA-F]{16}|X{16}\")\n",
    "binary_re = re.compile(\"(?<=(\\(0x))[a0-z9]{4,8}(?=\\))\")\n",
    "instruction_re = re.compile(\"\\w{2,8}(?=(\\s\\w{2,3},))|(\\w*\\.[a-z])|nop|mret|ecall|fence|unknown instruction|ebreak\")\n",
    "instr_str_re = re.compile(\"\\w*\\s\\w*,\\s\\w*,\\s-?\\w*(?=\\s*W)|\\w*(?=\\s*W)|\\w*\\s\\w*,\\s\\w*(?=\\s*W)\") #ugly\n",
    "gpr_re = re.compile(\"(?<=([a-z]{2}\\s))\\w{2,3}(?=,)\")\n",
    "op1_re = re.compile(\"(?<=,\\s)\\w{1,8}((?=,)|(?=\\s*W))|0\\(\\w{2,3}\\)\") \n",
    "op2_re = re.compile(\"(\\w*,\\s\\w*,\\s-?\\w*)\") #use split to get op2, don't have a nicer regex atm\n",
    "csr_re = re.compile(\"(?<=\\[)\\w{2,3}(?=\\s?=)\")\n",
    "mode_re = re.compile(\"(?<=PRV\\[)\\d*\")\n",
    "valid_re = re.compile(\"(?<=\\[)\\d(?=\\]\\s@)\")\n",
    "exception_re = re.compile(\"(?<=\\[)\\d(?=\\]\\sPRV)\")\n",
    "\n",
    "pc = []\n",
    "binary = []\n",
    "instr = []\n",
    "instr_str = []\n",
    "gpr = []\n",
    "csr = []\n",
    "gpr_val = []\n",
    "op_0 = []\n",
    "op_1 = []\n",
    "status = []\n",
    "tval = []\n",
    "mode = []\n",
    "exception = []\n",
    "valid = []\n",
    "\n",
    "\n",
    "for line in tqdm(transcript):\n",
    "    if(re.search(lookup,line)): #check that line conforms to format then extract information\n",
    "        valid.append(re.search(valid_re, line).group(0))\n",
    "                \n",
    "        pc_i = re.search(pc_csr_status_tval_re, line)\n",
    "        if(pc_i):\n",
    "            pc.append(pc_i.group(0))\n",
    "        else:\n",
    "            print(line)\n",
    "            break\n",
    "        binary.append(re.search(binary_re, line).group(0))\n",
    "        instruction = re.search(instruction_re, line)\n",
    "        if(instruction):\n",
    "            instr.append(instruction.group(0))\n",
    "        else:\n",
    "            raise RuntimeError(\"Instruction not present in RegEx\\n\"+line)\n",
    "        instr_str.append(re.search(instr_str_re, line).group(0))\n",
    "        match3 = re.search(gpr_re, line)\n",
    "        if(match3):\n",
    "            gpr.append(match3.group(0))\n",
    "        else:\n",
    "            gpr.append(\"\")\n",
    "        match4 = re.search(op1_re, line)\n",
    "        if(match4):\n",
    "            op_0.append(match4.group(0))\n",
    "        else:\n",
    "            op_0.append(\"\")\n",
    "        match5 = re.search(op2_re,line)\n",
    "        if(match5):\n",
    "            op_1.append(match5.group(0).split(\", \")[2])\n",
    "        else:\n",
    "            op_1.append(\"\")\n",
    "        match6 = re.search(csr_re,line)\n",
    "        if(match6):\n",
    "            csr.append(match6.group(0))\n",
    "        else:\n",
    "            print(line)\n",
    "            raise RuntimeError(\"CSR RegEx not complete\")\n",
    "\n",
    "        match7 = re.findall(pc_csr_status_tval_re,line)\n",
    "        if(len(match7) == 3):\n",
    "            print(match7)\n",
    "            print(line)\n",
    "        gpr_val.append(match7[1])\n",
    "        status.append(match7[2])\n",
    "        tval.append(match7[3])\n",
    "        mode.append(re.search(mode_re,line).group(0))\n",
    "        exception.append(re.search(exception_re,line).group(0))\n",
    "\n",
    "\n",
    "\n",
    "columns = ['pc','instr','gpr','csr','binary','mode','instr_str','operand','valid','exception']\n",
    "rtl_log = pd.DataFrame(columns=columns)\n",
    "rtl_log[columns[0]] = pc\n",
    "rtl_log[columns[1]] = instr\n",
    "rtl_log[columns[2]] = pd.Series(gpr) +\":\"+ pd.Series(gpr_val)\n",
    "rtl_log[columns[3]] = csr\n",
    "rtl_log[columns[4]] = binary\n",
    "rtl_log[columns[5]] = mode\n",
    "rtl_log[columns[6]] = instr_str\n",
    "rtl_log[columns[7]] = pd.Series(gpr)+\",\"+pd.Series(op_0)+\",\"+pd.Series(op_1)\n",
    "rtl_log[columns[8]] = valid\n",
    "rtl_log[columns[9]] = exception\n",
    "#log[columns[9]] = tval\n",
    "rtl_log = rtl_log[41:].reset_index(drop=True) #41 is where the bootloader ends\n",
    "def replace_gpr(pd_series,gpr,re_gpr):\n",
    "    tmp = []\n",
    "    for line in tqdm(pd_series):\n",
    "        split_line = line.split(\":\")\n",
    "        if(len(split_line[0]) > 0 and split_line[0] == gpr):\n",
    "            split_line[0] = re_gpr\n",
    "        ln = split_line[0]+\":\"+split_line[1]\n",
    "        tmp.append(ln)\n",
    "    return pd.Series(tmp)\n",
    "rtl_log.gpr = replace_gpr(rtl_log.gpr, 'fp','s0') #replace fp with s0 to keep convention consistent\n",
    "rtl_log['valid'] = rtl_log['valid'].astype('int32')\n",
    "rtl_log = rtl_log[rtl_log.valid == 0].reset_index(drop=True)\n",
    "#rtl_log = rtl_log[~((rtl_log['instr'] == \"addi\") & (rtl_log.shift(1)['instr'] == \"mret\"))].reset_index(drop=True) #deal with gaislers addi injection after mret, this removes all of those lines\n"
   ]
  },
  {
   "cell_type": "markdown",
   "metadata": {},
   "source": [
    "## Convert OVPsimlog to csv"
   ]
  },
  {
   "cell_type": "code",
   "execution_count": 26,
   "metadata": {},
   "outputs": [],
   "source": [
    "logs = glob.glob(riscv_dv+\"out_\"+current_time+\"/ovpsim_sim/\"+tests[test_number]+\"*.log\")\n",
    "csvs = glob.glob(riscv_dv+\"out_\"+current_time+\"/ovpsim_sim/\"+tests[test_number]+\"*.csv\")\n",
    "for log in logs:\n",
    "    process = Popen(\"python3 \"+riscv_dv+\"scripts/ovpsim_log_to_trace_csv.py --dont_truncate_after_first_ecall --log \"+log+ \" --csv \"+log.strip(\".log\")+\".csv\", shell=True, stdout=PIPE, stderr=PIPE)\n",
    "    stdout, stderr = process.communicate()\n",
    "csvs = glob.glob(riscv_dv+\"out_\"+current_time+\"/ovpsim_sim/\"+tests[test_number]+\"*.csv\")\n",
    "sim_log = pd.read_csv(csvs[0])\n",
    "sim_log['mode'] = sim_log['mode'].astype('Int64')\n",
    "sim_log['gpr'] = sim_log['gpr'].astype('str')\n",
    "if(not timeout):\n",
    "    sim_log = sim_log.truncate(after=len(sim_log)-3) #exit sequence slightly different between the rtl_sim and ovpsim"
   ]
  },
  {
   "cell_type": "markdown",
   "metadata": {},
   "source": [
    "## Compare series to see if run was successfull"
   ]
  },
  {
   "cell_type": "code",
   "execution_count": 56,
   "metadata": {},
   "outputs": [
    {
     "ename": "RuntimeError",
     "evalue": "Lengths of series differs with 817523 elements",
     "output_type": "error",
     "traceback": [
      "\u001b[0;31m---------------------------------------------------------------------------\u001b[0m",
      "\u001b[0;31mRuntimeError\u001b[0m                              Traceback (most recent call last)",
      "\u001b[0;32m<ipython-input-56-4c2b2aaa4180>\u001b[0m in \u001b[0;36m<module>\u001b[0;34m\u001b[0m\n\u001b[1;32m     16\u001b[0m         \u001b[0mprint\u001b[0m\u001b[0;34m(\u001b[0m\u001b[0;34m\"Truncating sim_log to {} elements to meet size of rtl_log\"\u001b[0m\u001b[0;34m.\u001b[0m\u001b[0mformat\u001b[0m\u001b[0;34m(\u001b[0m\u001b[0mlen\u001b[0m\u001b[0;34m(\u001b[0m\u001b[0mrtl_log\u001b[0m\u001b[0;34m)\u001b[0m\u001b[0;34m)\u001b[0m\u001b[0;34m)\u001b[0m\u001b[0;34m\u001b[0m\u001b[0;34m\u001b[0m\u001b[0m\n\u001b[1;32m     17\u001b[0m \u001b[0;32melse\u001b[0m\u001b[0;34m:\u001b[0m\u001b[0;34m\u001b[0m\u001b[0;34m\u001b[0m\u001b[0m\n\u001b[0;32m---> 18\u001b[0;31m     \u001b[0;32mraise\u001b[0m \u001b[0mRuntimeError\u001b[0m\u001b[0;34m(\u001b[0m\u001b[0;34m\"Lengths of series differs with \"\u001b[0m\u001b[0;34m+\u001b[0m\u001b[0mstr\u001b[0m\u001b[0;34m(\u001b[0m\u001b[0mabs\u001b[0m\u001b[0;34m(\u001b[0m\u001b[0mlen\u001b[0m\u001b[0;34m(\u001b[0m\u001b[0msim_log\u001b[0m\u001b[0;34m)\u001b[0m\u001b[0;34m-\u001b[0m\u001b[0mlen\u001b[0m\u001b[0;34m(\u001b[0m\u001b[0mrtl_log\u001b[0m\u001b[0;34m)\u001b[0m\u001b[0;34m)\u001b[0m\u001b[0;34m)\u001b[0m\u001b[0;34m+\u001b[0m\u001b[0;34m\" elements\"\u001b[0m\u001b[0;34m)\u001b[0m\u001b[0;34m\u001b[0m\u001b[0;34m\u001b[0m\u001b[0m\n\u001b[0m\u001b[1;32m     19\u001b[0m \u001b[0;34m\u001b[0m\u001b[0m\n\u001b[1;32m     20\u001b[0m \u001b[0;34m\u001b[0m\u001b[0m\n",
      "\u001b[0;31mRuntimeError\u001b[0m: Lengths of series differs with 817523 elements"
     ]
    }
   ],
   "source": [
    "if(abs(len(sim_log)-len(rtl_log) < 1000)):\n",
    "#if(abs(len(sim_log)-len(rtl_log) < 1000000)):\n",
    "\n",
    "# This limit is somewhat arbitrary, not sure what best course of action is for different length logs.\n",
    "# We can expect some difference in length when OVPsim timeouts since the runtime is then arbitrarily set, however, the rtl_log should be almost the same length\n",
    "# as that of the sim_log. \n",
    "    \n",
    "    if(len(sim_log) < len(rtl_log)):\n",
    "        rtl_log=rtl_log.truncate(after=len(sim_log)-1)\n",
    "        print(\"Truncating rtl_log to {} elements to meet size of sim_log\".format(len(rtl_log)))\n",
    "    elif(len(sim_log) == len(rtl_log)):\n",
    "        print(\"Both logs are equally sized\")\n",
    "\n",
    "    else:\n",
    "        sim_log=sim_log.truncate(after=len(rtl_log)-1)\n",
    "        print(\"Truncating sim_log to {} elements to meet size of rtl_log\".format(len(rtl_log)))\n",
    "else:\n",
    "    raise RuntimeError(\"Lengths of series differs with \"+str(abs(len(sim_log)-len(rtl_log)))+\" elements\") \n",
    "\n",
    "\n",
    "matches = len(sim_log[(sim_log.gpr != \"nan\") & (rtl_log.gpr == sim_log.gpr)])\n",
    "nan_count = len(sim_log[sim_log.gpr == \"nan\"])\n",
    "\n",
    "tot_count = matches + nan_count\n",
    "gpr_match = (tot_count == len(rtl_log.gpr))\n",
    "binary_match = rtl_log.binary.eq(sim_log.binary).all()\n",
    "pc_match = rtl_log.pc.eq(sim_log.pc).all()\n",
    "\n",
    "if(gpr_match and binary_match and pc_match):\n",
    "    print(\"GPR, Binary and PC contents match\")\n",
    "else:\n",
    "    print(\"PC match: {}\\nBinary match: {}\\nGPR match: {} \".format(pc_match,binary_match,gpr_match))"
   ]
  },
  {
   "cell_type": "code",
   "execution_count": 39,
   "metadata": {},
   "outputs": [
    {
     "data": {
      "text/html": [
       "<div>\n",
       "<style scoped>\n",
       "    .dataframe tbody tr th:only-of-type {\n",
       "        vertical-align: middle;\n",
       "    }\n",
       "\n",
       "    .dataframe tbody tr th {\n",
       "        vertical-align: top;\n",
       "    }\n",
       "\n",
       "    .dataframe thead th {\n",
       "        text-align: right;\n",
       "    }\n",
       "</style>\n",
       "<table border=\"1\" class=\"dataframe\">\n",
       "  <thead>\n",
       "    <tr style=\"text-align: right;\">\n",
       "      <th></th>\n",
       "      <th>pc</th>\n",
       "      <th>instr</th>\n",
       "      <th>gpr</th>\n",
       "      <th>csr</th>\n",
       "      <th>binary</th>\n",
       "      <th>mode</th>\n",
       "      <th>instr_str</th>\n",
       "      <th>operand</th>\n",
       "      <th>pad</th>\n",
       "    </tr>\n",
       "  </thead>\n",
       "  <tbody>\n",
       "    <tr>\n",
       "      <th>193</th>\n",
       "      <td>0000000000002000</td>\n",
       "      <td>csrrw</td>\n",
       "      <td>nan</td>\n",
       "      <td>NaN</td>\n",
       "      <td>340999f3</td>\n",
       "      <td>3</td>\n",
       "      <td>csrrw   s3,mscratch,s3</td>\n",
       "      <td>s3,mscratch,s3</td>\n",
       "      <td>NaN</td>\n",
       "    </tr>\n",
       "    <tr>\n",
       "      <th>194</th>\n",
       "      <td>0000000000002004</td>\n",
       "      <td>add</td>\n",
       "      <td>s3:000000000003fcf8</td>\n",
       "      <td>NaN</td>\n",
       "      <td>000f89b3</td>\n",
       "      <td>3</td>\n",
       "      <td>add     s3,t6,zero</td>\n",
       "      <td>s3,t6,zero</td>\n",
       "      <td>NaN</td>\n",
       "    </tr>\n",
       "    <tr>\n",
       "      <th>195</th>\n",
       "      <td>0000000000002008</td>\n",
       "      <td>addi</td>\n",
       "      <td>s3:000000000003fc00</td>\n",
       "      <td>NaN</td>\n",
       "      <td>f0898993</td>\n",
       "      <td>3</td>\n",
       "      <td>addi    s3,s3,-248</td>\n",
       "      <td>s3,s3,-248</td>\n",
       "      <td>NaN</td>\n",
       "    </tr>\n",
       "    <tr>\n",
       "      <th>196</th>\n",
       "      <td>000000000000200c</td>\n",
       "      <td>sd</td>\n",
       "      <td>nan</td>\n",
       "      <td>NaN</td>\n",
       "      <td>0019b423</td>\n",
       "      <td>3</td>\n",
       "      <td>sd      ra,8(s3)</td>\n",
       "      <td>ra,s3,8</td>\n",
       "      <td>NaN</td>\n",
       "    </tr>\n",
       "    <tr>\n",
       "      <th>197</th>\n",
       "      <td>0000000000002010</td>\n",
       "      <td>sd</td>\n",
       "      <td>nan</td>\n",
       "      <td>NaN</td>\n",
       "      <td>0029b823</td>\n",
       "      <td>3</td>\n",
       "      <td>sd      sp,16(s3)</td>\n",
       "      <td>sp,s3,16</td>\n",
       "      <td>NaN</td>\n",
       "    </tr>\n",
       "  </tbody>\n",
       "</table>\n",
       "</div>"
      ],
      "text/plain": [
       "                   pc  instr                  gpr  csr    binary  mode  \\\n",
       "193  0000000000002000  csrrw                  nan  NaN  340999f3     3   \n",
       "194  0000000000002004    add  s3:000000000003fcf8  NaN  000f89b3     3   \n",
       "195  0000000000002008   addi  s3:000000000003fc00  NaN  f0898993     3   \n",
       "196  000000000000200c     sd                  nan  NaN  0019b423     3   \n",
       "197  0000000000002010     sd                  nan  NaN  0029b823     3   \n",
       "\n",
       "                  instr_str         operand  pad  \n",
       "193  csrrw   s3,mscratch,s3  s3,mscratch,s3  NaN  \n",
       "194      add     s3,t6,zero      s3,t6,zero  NaN  \n",
       "195      addi    s3,s3,-248      s3,s3,-248  NaN  \n",
       "196        sd      ra,8(s3)         ra,s3,8  NaN  \n",
       "197       sd      sp,16(s3)        sp,s3,16  NaN  "
      ]
     },
     "execution_count": 39,
     "metadata": {},
     "output_type": "execute_result"
    }
   ],
   "source": [
    "sim_log[rtl_log.pc != sim_log.pc].head(5)"
   ]
  },
  {
   "cell_type": "code",
   "execution_count": 42,
   "metadata": {},
   "outputs": [
    {
     "data": {
      "text/plain": [
       "False"
      ]
     },
     "execution_count": 42,
     "metadata": {},
     "output_type": "execute_result"
    }
   ],
   "source": [
    "rtl_log[190:205].valid.eq(1\n"
   ]
  }
 ],
 "metadata": {
  "kernelspec": {
   "display_name": "Python 3",
   "language": "python",
   "name": "python3"
  },
  "language_info": {
   "codemirror_mode": {
    "name": "ipython",
    "version": 3
   },
   "file_extension": ".py",
   "mimetype": "text/x-python",
   "name": "python",
   "nbconvert_exporter": "python",
   "pygments_lexer": "ipython3",
   "version": "3.6.12"
  }
 },
 "nbformat": 4,
 "nbformat_minor": 4
}
