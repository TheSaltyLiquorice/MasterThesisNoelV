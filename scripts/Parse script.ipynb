{
 "cells": [
  {
   "cell_type": "code",
   "execution_count": 1,
   "metadata": {},
   "outputs": [],
   "source": [
    "import re\n",
    "import os\n",
    "import numpy as np\n",
    "import glob\n",
    "from tqdm import tqdm\n",
    "import pandas as pd\n",
    "from subprocess import Popen, PIPE, call, check_call\n",
    "import datetime\n",
    "import shutil\n",
    "from datetime import datetime\n",
    "import time\n",
    "\n",
    "from help_functions import * #user def\n",
    "from lut import tests\n",
    "\n"
   ]
  },
  {
   "cell_type": "markdown",
   "metadata": {},
   "source": [
    "## General defines, paths etc"
   ]
  },
  {
   "cell_type": "code",
   "execution_count": 2,
   "metadata": {},
   "outputs": [
    {
     "name": "stdout",
     "output_type": "stream",
     "text": [
      "Running the test: riscv_arithmetic_basic_test\n"
     ]
    }
   ],
   "source": [
    "transcript_path = os.environ['NOELV']\n",
    "grlib_path = os.environ['GRLIB']\n",
    "riscv_dv = os.environ['r_dv']+\"/\"\n",
    "\n",
    "test_number = 0\n",
    "print(\"Running the test: {}\".format(tests[test_number]))\n",
    "now = datetime.now()\n",
    "current_time = now.strftime(\"%Y-%m-%d\")#_%H:%M:%S\"\n",
    "finish_after = int(1e5)\n",
    "boot_loader_length = 41\n",
    "instr_cnt = finish_after+boot_loader_length+2 #+41 to account for bootloader, +2 for counter trailing"
   ]
  },
  {
   "cell_type": "code",
   "execution_count": 9,
   "metadata": {},
   "outputs": [],
   "source": [
    "#Each level correponds to one cell\n",
    "settings = {\n",
    "    \"gen_test\":{\n",
    "        \"errors\":[\"You do not have a valid license to run Riviera-PRO\",\"Error: Simulation initialization failed.\"],\n",
    "        \"paths\":{\n",
    "            \"test\":riscv_dv+\"out/ovpsim_sim/*.log\",\n",
    "            \"srec_test\":riscv_dv+\"/out/asm_test/*.srec\",\n",
    "        },\n",
    "        \"test_param\" : \"python3 run.py --custom_target target/rv64_noelv/ --iss ovpsim\\\n",
    "             --simulator riviera --isa rv64gc --mabi lp64 -o \"+riscv_dv+'out',\n",
    "        \"process_param\" : 'cd '+riscv_dv+' && source ~/.bashrc && module load aldec/riviera/2021.10 &&',\n",
    "        \"timeout\" : False,\n",
    "        \"arg_timeout\" : \"-gdisas=1 -gfinish_after_en=1 -gfinish_after=\"+str(instr_cnt),\n",
    "        \"arg_no_timeout\" : \"-gdisas=1 -gfinish_after_en=1 -gfinish_after=\"+str(int(instr_cnt*1.1)),\n",
    "        \"iteration\":-1, #will be set when run\n",
    "    },\n",
    "    \"run_rtl\":{\n",
    "        \"paths\":{\n",
    "            \"cp_dest\":transcript_path+'ram.srec',\n",
    "            \"rtl_log\":riscv_dv+\"out/rtl_log/\",\n",
    "            \"srec\":riscv_dv+\"out/asm_test/\",\n",
    "            \"transcript\":transcript_path+\"transcript\",\n",
    "            \"Makefile\":grlib_path+\"/designs/noelv-generic/Makefile\"\n",
    "            \n",
    "        },\n",
    "        \"process_param\":'cd '+transcript_path+' && source ~/.bashrc && module add mentor/questasim/2021.3 && make sim-run',\n",
    "        \"test_sucess\":[\"# ** Failure: *** IU in error mode, simulation halted ***\",\"Test finished after\",\"** Failure: Assertion violation.\"],\n",
    "    },\n",
    "    \"parse_rtl\":{\n",
    "                \"reg_ex\":{\n",
    "                    \"lookup\":re.compile(\"#\\s*\\d*\\s*ns\\s*:\\sC\\d I\\d : \\d*\\s*\\[\\d\\] @0x[0-9a-fA-F]{16} \\(0x[0-9a-fA-F]{4,8}\\)\\s*.*\"),\n",
    "                    \"pc_csr_status_tval\":re.compile(\"[0-9a-fA-F]{16}|X{16}\"),\n",
    "                    \"binary\" : re.compile(\"(?<=(\\(0x))[a0-z9]{4,8}(?=\\))\"), #opcode\n",
    "                    \"instruction\" : re.compile(\"\\w{2,8}(?=(\\s\\w{2,3},))|(\\w*\\.[a-z])|nop|mret|ecall|fence|unknown instruction|ebreak|fld\"),\n",
    "                    \"instr_str\" : re.compile(\"\\w*\\s\\w*,\\s\\w*,\\s-?\\w*(?=\\s*W)|\\w*(?=\\s*W)|\\w*\\s\\w*,\\s\\w*(?=\\s*W)\"), #ugly\n",
    "                    \"gpr\" : re.compile(\"(?<=([a-z]{2}\\s))\\w{2,3}(?=,)\"),\n",
    "                    \"op1\" : re.compile(\"(?<=,\\s)\\w{1,8}((?=,)|(?=\\s*W))|0\\(\\w{2,3}\\)\"), \n",
    "                    \"op2\" : re.compile(\"(\\w*,\\s\\w*,\\s-?\\w*)\"), #use split to get op2, don't have a nicer regex atm\n",
    "                    \"csr\" : re.compile(\"\\w*(?=\\s*=\\w*\\]\\[\\d\\]\\sIPC)\"),\n",
    "                    \"mode\" : re.compile(\"(?<=PRV\\[)\\d*\"),\n",
    "                    \"valid\" : re.compile(\"(?<=\\[)\\d(?=\\]\\s@)\"),\n",
    "                    \"exception\" : re.compile(\"(?<=\\[)\\d(?=\\]\\sPRV)\"),\n",
    "                },\n",
    "                \"columns\":['pc','instr','gpr','csr','binary','mode','instr_str','operand','valid','exception'],\n",
    "\n",
    "    },\n",
    "    \"gen_csv\":{\n",
    "        \"process\":\"python3 \"+riscv_dv+\"scripts/ovpsim_log_to_trace_csv.py --dont_truncate_after_first_ecall --log \",\n",
    "        \"paths\":{\n",
    "            \"log\":riscv_dv+\"out/ovpsim_sim/\"\n",
    "        },\n",
    "        \"errors\":[\"FileNotFoundError\",\"error: unrecognized arguments:\"],\n",
    "\n",
    "    },\n",
    "    \"gen_cov\":{\n",
    "        \"paths\":{\n",
    "            \"logs\": riscv_dv+\"out_\"+current_time+\"/ovpsim_sim/\",\n",
    "        },\n",
    "        \"test_param\" : \"python3 cov.py --iss ovpsim -si riviera --custom_target target/rv64_noelv/\",\n",
    "        \"process_param\": 'cd '+riscv_dv+' && source ~/.bashrc && module load aldec/riviera/2021.10 && ',\n",
    "        \"test_sucess\": \"Coverage results are saved\",\n",
    "    },\n",
    "    \"trace_compare\":{\n",
    "        \"columns\":[\"Test\",'Iteration','Date','GPR Pass','CSR Pass','PC Pass','Binary Pass','ISS Log Path','ISS Snippet','Number of Faults'],\n",
    "\n",
    "    }\n",
    "\n",
    "\n",
    "\n",
    "    \n",
    "}"
   ]
  },
  {
   "cell_type": "markdown",
   "metadata": {},
   "source": [
    "## Generate RISCV-DV tests and run OVPsim\n",
    "- Tests that work: 0\n",
    "- Tests that sometimes timeout but sometimes doesn't: 1, 2, 10\n",
    "- Tests that doesn't run at all (sometimes): 1, 2, 5, 6, 8, 9 (Never enters program after running the bootloader)\n",
    "- Test 7 seems to outright fail"
   ]
  },
  {
   "cell_type": "code",
   "execution_count": 4,
   "metadata": {},
   "outputs": [],
   "source": [
    "def gen_test():\n",
    "    paths_before_run = glob.glob(settings['gen_test']['paths'][\"test\"])\n",
    "    srec_after_run = []\n",
    "    process = Popen(settings['gen_test']['process_param']+settings[\"gen_test\"][\"test_param\"], shell=True, stdout=PIPE, stderr=PIPE)\n",
    "    timeouts = []\n",
    "    stdout, stderr = process.communicate()\n",
    "    error = stderr.decode('ascii')\n",
    "\n",
    "    find_error(settings['gen_test']['errors'], error)\n",
    "\n",
    "    paths_after_run = glob.glob(settings['gen_test']['paths'][\"test\"])\n",
    "    #print(paths_after_run)\n",
    "    if(len(paths_after_run) <= len(paths_before_run)):\n",
    "        raise ValueError(\"No new tests were generated\")\n",
    "\n",
    "    for path in list(set(paths_after_run)-set(paths_before_run)):\n",
    "        try:\n",
    "            f = open(path, \"r\")\n",
    "        except IOError:\n",
    "            print('Warning: File not found '+path)\n",
    "            continue\n",
    "        timeouts.append(settings[\"gen_test\"][\"arg_timeout\"] if f.read().find(\"Info \"+str(finish_after)+\":\") != -1 else settings[\"gen_test\"][\"arg_no_timeout\"])\n",
    "        srec_after_run.append(path[path.find('riscv_'):].rstrip('.log')+'.srec')\n",
    "        f.close()\n",
    "\n",
    "    return srec_after_run, timeouts\n",
    "\n"
   ]
  },
  {
   "cell_type": "markdown",
   "metadata": {},
   "source": [
    "## Run RTL simulation\n"
   ]
  },
  {
   "cell_type": "code",
   "execution_count": 5,
   "metadata": {},
   "outputs": [],
   "source": [
    "def run_rtl(srec_files, timeout_arg):\n",
    "    if(len(srec_files) != len(timeout_arg)):\n",
    "        raise ValueError(\"Lists are not the same length\")\n",
    "    rtl_log_filenames = []\n",
    "    for srec,timeout in zip(srec_files,timeout_arg):\n",
    "        name = srec[srec.find('riscv_'):].rstrip('.srec')\n",
    "        print('Running RTL :'+name)\n",
    "\n",
    "        try:\n",
    "            f = open(settings['run_rtl']['paths']['Makefile'],\"r\")\n",
    "        except IOError:\n",
    "            raise RuntimeError('NOEL-V Makefile not found')\n",
    "        txt = f.read()\n",
    "        tmp = re.sub(\"(?<=VSIMOPT=).*\",timeout,txt)\n",
    "        f.close()\n",
    "        f = open(settings['run_rtl']['paths']['Makefile'],\"w\")\n",
    "        f.write(tmp)\n",
    "        f.close()\n",
    "\n",
    "        shutil.copy(settings['run_rtl']['paths']['srec']+srec, settings['run_rtl']['paths']['cp_dest']) #copy the current test to the sim dir\n",
    "        print(\"Copied {} to the NOELV directory\".format(srec))\n",
    "        #launch sim\n",
    "        process = Popen(settings['run_rtl']['process_param'], shell=True, stdout=PIPE, stderr=PIPE)\n",
    "        stdout, stderr = process.communicate()\n",
    "        rtl_out = stdout.decode('ascii')\n",
    "\n",
    "\n",
    "        if(find_success(settings['run_rtl']['test_sucess'],rtl_out)):\n",
    "            print(\"RTL Simulation Success\")\n",
    "        else:\n",
    "            print(\"RTL Simulation Failed\")\n",
    "\n",
    "        if not os.path.exists(settings['run_rtl']['paths']['rtl_log']):\n",
    "            os.mkdir(settings['run_rtl']['paths']['rtl_log'])\n",
    "        name = srec[srec.find('riscv_'):].rstrip('.srec')\n",
    "        shutil.copy(settings['run_rtl']['paths']['transcript'], settings['run_rtl']['paths']['rtl_log']+name+\".rtl.log\")\n",
    "        rtl_log_filenames.append(name+\".rtl.log\")\n",
    "    return rtl_log_filenames"
   ]
  },
  {
   "cell_type": "code",
   "execution_count": 10,
   "metadata": {},
   "outputs": [
    {
     "name": "stdout",
     "output_type": "stream",
     "text": [
      "Running RTL :riscv_no_fence_test_2022-03-03_17:10:26_0\n",
      "Copied riscv_no_fence_test_2022-03-03_17:10:26_0.srec to the NOELV directory\n",
      "RTL Simulation Success\n",
      "Running RTL :riscv_rand_instr_test_2022-03-03_17:10:26_0\n",
      "Copied riscv_rand_instr_test_2022-03-03_17:10:26_0.srec to the NOELV directory\n",
      "RTL Simulation Success\n",
      "Running RTL :riscv_full_interrupt_test_2022-03-03_17:10:26_1\n",
      "Copied riscv_full_interrupt_test_2022-03-03_17:10:26_1.srec to the NOELV directory\n",
      "RTL Simulation Success\n",
      "Running RTL :riscv_machine_mode_rand_test_2022-03-03_17:10:26_0\n",
      "Copied riscv_machine_mode_rand_test_2022-03-03_17:10:26_0.srec to the NOELV directory\n",
      "RTL Simulation Success\n",
      "Running RTL :riscv_illegal_instr_test_2022-03-03_17:10:26_1\n",
      "Copied riscv_illegal_instr_test_2022-03-03_17:10:26_1.srec to the NOELV directory\n",
      "RTL Simulation Success\n",
      "Running RTL :riscv_unaligned_load_store_test_2022-03-03_17:10:26_0\n",
      "Copied riscv_unaligned_load_store_test_2022-03-03_17:10:26_0.srec to the NOELV directory\n",
      "RTL Simulation Success\n",
      "Running RTL :riscv_ebreak_test_2022-03-03_17:10:26_0\n",
      "Copied riscv_ebreak_test_2022-03-03_17:10:26_0.srec to the NOELV directory\n",
      "RTL Simulation Success\n",
      "Running RTL :riscv_privileged_mode_rand_test_2022-03-03_17:10:26_0\n",
      "Copied riscv_privileged_mode_rand_test_2022-03-03_17:10:26_0.srec to the NOELV directory\n",
      "RTL Simulation Success\n",
      "Running RTL :riscv_privileged_mode_rand_test_2022-03-03_17:10:26_1\n",
      "Copied riscv_privileged_mode_rand_test_2022-03-03_17:10:26_1.srec to the NOELV directory\n",
      "RTL Simulation Success\n",
      "Running RTL :riscv_pmp_test_2022-03-03_17:10:26_1\n",
      "Copied riscv_pmp_test_2022-03-03_17:10:26_1.srec to the NOELV directory\n",
      "RTL Simulation Success\n",
      "Running RTL :riscv_non_compressed_instr_test_2022-03-03_17:10:26_0\n",
      "Copied riscv_non_compressed_instr_test_2022-03-03_17:10:26_0.srec to the NOELV directory\n",
      "RTL Simulation Success\n",
      "Running RTL :riscv_machine_mode_rand_test_2022-03-03_17:10:26_1\n",
      "Copied riscv_machine_mode_rand_test_2022-03-03_17:10:26_1.srec to the NOELV directory\n",
      "RTL Simulation Success\n",
      "Running RTL :riscv_rand_instr_test_2022-03-03_17:10:26_1\n",
      "Copied riscv_rand_instr_test_2022-03-03_17:10:26_1.srec to the NOELV directory\n",
      "RTL Simulation Success\n",
      "Running RTL :riscv_amo_test_2022-03-03_17:10:26_1\n",
      "Copied riscv_amo_test_2022-03-03_17:10:26_1.srec to the NOELV directory\n",
      "RTL Simulation Success\n",
      "Running RTL :riscv_ebreak_debug_mode_test_2022-03-03_17:10:26_1\n",
      "Copied riscv_ebreak_debug_mode_test_2022-03-03_17:10:26_1.srec to the NOELV directory\n",
      "RTL Simulation Success\n",
      "Running RTL :riscv_loop_test_2022-03-03_17:10:26_1\n",
      "Copied riscv_loop_test_2022-03-03_17:10:26_1.srec to the NOELV directory\n",
      "RTL Simulation Success\n",
      "Running RTL :riscv_full_interrupt_test_2022-03-03_17:10:26_0\n",
      "Copied riscv_full_interrupt_test_2022-03-03_17:10:26_0.srec to the NOELV directory\n",
      "RTL Simulation Success\n",
      "Running RTL :riscv_rand_jump_test_2022-03-03_17:10:26_1\n",
      "Copied riscv_rand_jump_test_2022-03-03_17:10:26_1.srec to the NOELV directory\n",
      "RTL Simulation Success\n",
      "Running RTL :riscv_floating_point_arithmetic_test_2022-03-03_17:10:26_0\n",
      "Copied riscv_floating_point_arithmetic_test_2022-03-03_17:10:26_0.srec to the NOELV directory\n",
      "RTL Simulation Success\n",
      "Running RTL :riscv_floating_point_mmu_stress_test_2022-03-03_17:10:26_0\n",
      "Copied riscv_floating_point_mmu_stress_test_2022-03-03_17:10:26_0.srec to the NOELV directory\n",
      "RTL Simulation Success\n",
      "Running RTL :riscv_hint_instr_test_2022-03-03_17:10:26_0\n",
      "Copied riscv_hint_instr_test_2022-03-03_17:10:26_0.srec to the NOELV directory\n",
      "RTL Simulation Success\n",
      "Running RTL :riscv_ebreak_debug_mode_test_2022-03-03_17:10:26_0\n",
      "Copied riscv_ebreak_debug_mode_test_2022-03-03_17:10:26_0.srec to the NOELV directory\n",
      "RTL Simulation Success\n",
      "Running RTL :riscv_invalid_csr_test_2022-03-03_17:10:26_0\n",
      "Copied riscv_invalid_csr_test_2022-03-03_17:10:26_0.srec to the NOELV directory\n",
      "RTL Simulation Success\n",
      "Running RTL :riscv_pmp_test_2022-03-03_17:10:26_0\n",
      "Copied riscv_pmp_test_2022-03-03_17:10:26_0.srec to the NOELV directory\n",
      "RTL Simulation Success\n",
      "Running RTL :riscv_floating_point_rand_test_2022-03-03_17:10:26_0\n",
      "Copied riscv_floating_point_rand_test_2022-03-03_17:10:26_0.srec to the NOELV directory\n",
      "RTL Simulation Success\n",
      "Running RTL :riscv_illegal_instr_test_2022-03-03_17:10:26_0\n",
      "Copied riscv_illegal_instr_test_2022-03-03_17:10:26_0.srec to the NOELV directory\n",
      "RTL Simulation Success\n",
      "Running RTL :riscv_sfence_exception_test_2022-03-03_17:10:26_0\n",
      "Copied riscv_sfence_exception_test_2022-03-03_17:10:26_0.srec to the NOELV directory\n",
      "RTL Simulation Success\n",
      "Running RTL :riscv_hint_instr_test_2022-03-03_17:10:26_1\n",
      "Copied riscv_hint_instr_test_2022-03-03_17:10:26_1.srec to the NOELV directory\n",
      "RTL Simulation Success\n",
      "Running RTL :riscv_jump_stress_test_2022-03-03_17:10:26_0\n",
      "Copied riscv_jump_stress_test_2022-03-03_17:10:26_0.srec to the NOELV directory\n",
      "RTL Simulation Success\n",
      "Running RTL :riscv_mmu_stress_test_2022-03-03_17:10:26_0\n",
      "Copied riscv_mmu_stress_test_2022-03-03_17:10:26_0.srec to the NOELV directory\n",
      "RTL Simulation Success\n",
      "Running RTL :riscv_arithmetic_basic_test_2022-03-03_17:10:26_1\n",
      "Copied riscv_arithmetic_basic_test_2022-03-03_17:10:26_1.srec to the NOELV directory\n",
      "RTL Simulation Success\n",
      "Running RTL :riscv_loop_test_2022-03-03_17:10:26_0\n",
      "Copied riscv_loop_test_2022-03-03_17:10:26_0.srec to the NOELV directory\n",
      "RTL Simulation Success\n",
      "Running RTL :riscv_rand_jump_test_2022-03-03_17:10:26_0\n",
      "Copied riscv_rand_jump_test_2022-03-03_17:10:26_0.srec to the NOELV directory\n",
      "RTL Simulation Success\n",
      "Running RTL :riscv_jump_stress_test_2022-03-03_17:10:26_1\n",
      "Copied riscv_jump_stress_test_2022-03-03_17:10:26_1.srec to the NOELV directory\n",
      "RTL Simulation Success\n",
      "Running RTL :riscv_ebreak_test_2022-03-03_17:10:26_1\n",
      "Copied riscv_ebreak_test_2022-03-03_17:10:26_1.srec to the NOELV directory\n",
      "RTL Simulation Success\n",
      "Running RTL :riscv_invalid_csr_test_2022-03-03_17:10:26_1\n",
      "Copied riscv_invalid_csr_test_2022-03-03_17:10:26_1.srec to the NOELV directory\n",
      "RTL Simulation Success\n",
      "Running RTL :riscv_arithmetic_basic_test_2022-03-03_17:10:26_0\n",
      "Copied riscv_arithmetic_basic_test_2022-03-03_17:10:26_0.srec to the NOELV directory\n",
      "RTL Simulation Success\n",
      "Running RTL :riscv_floating_point_mmu_stress_test_2022-03-03_17:10:26_1\n",
      "Copied riscv_floating_point_mmu_stress_test_2022-03-03_17:10:26_1.srec to the NOELV directory\n",
      "RTL Simulation Success\n",
      "Running RTL :riscv_mmu_stress_test_2022-03-03_17:10:26_1\n",
      "Copied riscv_mmu_stress_test_2022-03-03_17:10:26_1.srec to the NOELV directory\n",
      "RTL Simulation Success\n",
      "Running RTL :riscv_sfence_exception_test_2022-03-03_17:10:26_1\n",
      "Copied riscv_sfence_exception_test_2022-03-03_17:10:26_1.srec to the NOELV directory\n",
      "RTL Simulation Success\n",
      "Running RTL :riscv_no_fence_test_2022-03-03_17:10:26_1\n",
      "Copied riscv_no_fence_test_2022-03-03_17:10:26_1.srec to the NOELV directory\n",
      "RTL Simulation Success\n",
      "Running RTL :riscv_amo_test_2022-03-03_17:10:26_0\n",
      "Copied riscv_amo_test_2022-03-03_17:10:26_0.srec to the NOELV directory\n",
      "RTL Simulation Success\n"
     ]
    },
    {
     "name": "stderr",
     "output_type": "stream",
     "text": [
      "100%|██████████| 104650/104650 [00:17<00:00, 6035.69it/s]\n",
      "100%|██████████| 100758/100758 [00:00<00:00, 880965.42it/s]\n"
     ]
    },
    {
     "name": "stdout",
     "output_type": "stream",
     "text": [
      "/home/jonathanjonsson/MasterThesis/riscv-dv/out/rtl_log/riscv_no_fence_test_2022-03-03_17:10:26_0\n"
     ]
    },
    {
     "name": "stderr",
     "output_type": "stream",
     "text": [
      "100%|██████████| 104633/104633 [00:16<00:00, 6178.21it/s]\n",
      "100%|██████████| 100741/100741 [00:00<00:00, 904069.07it/s]\n"
     ]
    },
    {
     "name": "stdout",
     "output_type": "stream",
     "text": [
      "/home/jonathanjonsson/MasterThesis/riscv-dv/out/rtl_log/riscv_rand_instr_test_2022-03-03_17:10:26_0\n"
     ]
    },
    {
     "name": "stderr",
     "output_type": "stream",
     "text": [
      "100%|██████████| 104650/104650 [00:17<00:00, 6103.09it/s]\n",
      "100%|██████████| 100758/100758 [00:00<00:00, 897498.66it/s]\n"
     ]
    },
    {
     "name": "stdout",
     "output_type": "stream",
     "text": [
      "/home/jonathanjonsson/MasterThesis/riscv-dv/out/rtl_log/riscv_full_interrupt_test_2022-03-03_17:10:26_1\n"
     ]
    },
    {
     "name": "stderr",
     "output_type": "stream",
     "text": [
      "100%|██████████| 9581/9581 [00:00<00:00, 10813.47it/s]\n",
      "100%|██████████| 5687/5687 [00:00<00:00, 817779.99it/s]\n"
     ]
    },
    {
     "name": "stdout",
     "output_type": "stream",
     "text": [
      "/home/jonathanjonsson/MasterThesis/riscv-dv/out/rtl_log/riscv_machine_mode_rand_test_2022-03-03_17:10:26_0\n"
     ]
    },
    {
     "name": "stderr",
     "output_type": "stream",
     "text": [
      "100%|██████████| 104650/104650 [00:16<00:00, 6172.54it/s]\n",
      "100%|██████████| 100758/100758 [00:00<00:00, 862968.91it/s]\n"
     ]
    },
    {
     "name": "stdout",
     "output_type": "stream",
     "text": [
      "/home/jonathanjonsson/MasterThesis/riscv-dv/out/rtl_log/riscv_illegal_instr_test_2022-03-03_17:10:26_1\n"
     ]
    },
    {
     "name": "stderr",
     "output_type": "stream",
     "text": [
      "100%|██████████| 104650/104650 [00:16<00:00, 6164.83it/s]\n",
      "100%|██████████| 100758/100758 [00:00<00:00, 908527.37it/s]\n"
     ]
    },
    {
     "name": "stdout",
     "output_type": "stream",
     "text": [
      "/home/jonathanjonsson/MasterThesis/riscv-dv/out/rtl_log/riscv_unaligned_load_store_test_2022-03-03_17:10:26_0\n"
     ]
    },
    {
     "name": "stderr",
     "output_type": "stream",
     "text": [
      "100%|██████████| 104650/104650 [00:16<00:00, 6179.40it/s]\n",
      "100%|██████████| 100758/100758 [00:00<00:00, 902239.07it/s]\n"
     ]
    },
    {
     "name": "stdout",
     "output_type": "stream",
     "text": [
      "/home/jonathanjonsson/MasterThesis/riscv-dv/out/rtl_log/riscv_ebreak_test_2022-03-03_17:10:26_0\n"
     ]
    },
    {
     "name": "stderr",
     "output_type": "stream",
     "text": [
      "100%|██████████| 104633/104633 [00:17<00:00, 6125.20it/s]\n",
      "100%|██████████| 100741/100741 [00:00<00:00, 757170.75it/s]\n"
     ]
    },
    {
     "name": "stdout",
     "output_type": "stream",
     "text": [
      "/home/jonathanjonsson/MasterThesis/riscv-dv/out/rtl_log/riscv_privileged_mode_rand_test_2022-03-03_17:10:26_0\n"
     ]
    },
    {
     "name": "stderr",
     "output_type": "stream",
     "text": [
      "100%|██████████| 104650/104650 [00:17<00:00, 6130.48it/s]\n",
      "100%|██████████| 100758/100758 [00:00<00:00, 885432.15it/s]\n"
     ]
    },
    {
     "name": "stdout",
     "output_type": "stream",
     "text": [
      "/home/jonathanjonsson/MasterThesis/riscv-dv/out/rtl_log/riscv_privileged_mode_rand_test_2022-03-03_17:10:26_1\n"
     ]
    },
    {
     "name": "stderr",
     "output_type": "stream",
     "text": [
      "100%|██████████| 9506/9506 [00:00<00:00, 10349.46it/s]\n",
      "100%|██████████| 5612/5612 [00:00<00:00, 841650.30it/s]\n"
     ]
    },
    {
     "name": "stdout",
     "output_type": "stream",
     "text": [
      "/home/jonathanjonsson/MasterThesis/riscv-dv/out/rtl_log/riscv_pmp_test_2022-03-03_17:10:26_1\n"
     ]
    },
    {
     "name": "stderr",
     "output_type": "stream",
     "text": [
      "100%|██████████| 104650/104650 [00:17<00:00, 6125.41it/s]\n",
      "100%|██████████| 100758/100758 [00:00<00:00, 858981.97it/s]\n"
     ]
    },
    {
     "name": "stdout",
     "output_type": "stream",
     "text": [
      "/home/jonathanjonsson/MasterThesis/riscv-dv/out/rtl_log/riscv_non_compressed_instr_test_2022-03-03_17:10:26_0\n"
     ]
    },
    {
     "name": "stderr",
     "output_type": "stream",
     "text": [
      "100%|██████████| 13774/13774 [00:01<00:00, 8911.58it/s]\n",
      "100%|██████████| 9880/9880 [00:00<00:00, 864299.91it/s]\n"
     ]
    },
    {
     "name": "stdout",
     "output_type": "stream",
     "text": [
      "/home/jonathanjonsson/MasterThesis/riscv-dv/out/rtl_log/riscv_machine_mode_rand_test_2022-03-03_17:10:26_1\n"
     ]
    },
    {
     "name": "stderr",
     "output_type": "stream",
     "text": [
      "100%|██████████| 5372/5372 [00:00<00:00, 21508.12it/s]\n",
      "100%|██████████| 1478/1478 [00:00<00:00, 772387.40it/s]\n"
     ]
    },
    {
     "name": "stdout",
     "output_type": "stream",
     "text": [
      "/home/jonathanjonsson/MasterThesis/riscv-dv/out/rtl_log/riscv_rand_instr_test_2022-03-03_17:10:26_1\n"
     ]
    },
    {
     "name": "stderr",
     "output_type": "stream",
     "text": [
      "100%|██████████| 104650/104650 [00:16<00:00, 6277.75it/s]\n",
      "100%|██████████| 100758/100758 [00:00<00:00, 889749.55it/s]\n"
     ]
    },
    {
     "name": "stdout",
     "output_type": "stream",
     "text": [
      "/home/jonathanjonsson/MasterThesis/riscv-dv/out/rtl_log/riscv_amo_test_2022-03-03_17:10:26_1\n"
     ]
    },
    {
     "name": "stderr",
     "output_type": "stream",
     "text": [
      "100%|██████████| 89824/89824 [00:14<00:00, 6027.34it/s]\n",
      "100%|██████████| 85930/85930 [00:00<00:00, 974670.40it/s]\n"
     ]
    },
    {
     "name": "stdout",
     "output_type": "stream",
     "text": [
      "/home/jonathanjonsson/MasterThesis/riscv-dv/out/rtl_log/riscv_ebreak_debug_mode_test_2022-03-03_17:10:26_1\n"
     ]
    },
    {
     "name": "stderr",
     "output_type": "stream",
     "text": [
      "100%|██████████| 104650/104650 [00:17<00:00, 6091.55it/s]\n",
      "100%|██████████| 100758/100758 [00:00<00:00, 903378.90it/s]\n"
     ]
    },
    {
     "name": "stdout",
     "output_type": "stream",
     "text": [
      "/home/jonathanjonsson/MasterThesis/riscv-dv/out/rtl_log/riscv_loop_test_2022-03-03_17:10:26_1\n"
     ]
    },
    {
     "name": "stderr",
     "output_type": "stream",
     "text": [
      "100%|██████████| 8442/8442 [00:00<00:00, 11053.47it/s]\n",
      "100%|██████████| 4548/4548 [00:00<00:00, 834932.14it/s]\n"
     ]
    },
    {
     "name": "stdout",
     "output_type": "stream",
     "text": [
      "/home/jonathanjonsson/MasterThesis/riscv-dv/out/rtl_log/riscv_full_interrupt_test_2022-03-03_17:10:26_0\n"
     ]
    },
    {
     "name": "stderr",
     "output_type": "stream",
     "text": [
      "100%|██████████| 104650/104650 [00:17<00:00, 6072.85it/s]\n",
      "100%|██████████| 100758/100758 [00:00<00:00, 927678.89it/s]\n"
     ]
    },
    {
     "name": "stdout",
     "output_type": "stream",
     "text": [
      "/home/jonathanjonsson/MasterThesis/riscv-dv/out/rtl_log/riscv_rand_jump_test_2022-03-03_17:10:26_1\n"
     ]
    },
    {
     "name": "stderr",
     "output_type": "stream",
     "text": [
      "100%|██████████| 17469/17469 [00:01<00:00, 10007.12it/s]\n",
      "100%|██████████| 10396/10396 [00:00<00:00, 887053.14it/s]\n"
     ]
    },
    {
     "name": "stdout",
     "output_type": "stream",
     "text": [
      "/home/jonathanjonsson/MasterThesis/riscv-dv/out/rtl_log/riscv_floating_point_arithmetic_test_2022-03-03_17:10:26_0\n"
     ]
    },
    {
     "name": "stderr",
     "output_type": "stream",
     "text": [
      "100%|██████████| 104633/104633 [00:17<00:00, 6122.86it/s]\n",
      "100%|██████████| 100741/100741 [00:00<00:00, 886577.45it/s]\n"
     ]
    },
    {
     "name": "stdout",
     "output_type": "stream",
     "text": [
      "/home/jonathanjonsson/MasterThesis/riscv-dv/out/rtl_log/riscv_floating_point_mmu_stress_test_2022-03-03_17:10:26_0\n"
     ]
    },
    {
     "name": "stderr",
     "output_type": "stream",
     "text": [
      "100%|██████████| 104650/104650 [00:17<00:00, 6142.14it/s]\n",
      "100%|██████████| 100758/100758 [00:00<00:00, 885367.23it/s]\n"
     ]
    },
    {
     "name": "stdout",
     "output_type": "stream",
     "text": [
      "/home/jonathanjonsson/MasterThesis/riscv-dv/out/rtl_log/riscv_hint_instr_test_2022-03-03_17:10:26_0\n"
     ]
    },
    {
     "name": "stderr",
     "output_type": "stream",
     "text": [
      "100%|██████████| 104650/104650 [00:17<00:00, 6144.77it/s]\n",
      "100%|██████████| 100758/100758 [00:00<00:00, 908263.77it/s]\n"
     ]
    },
    {
     "name": "stdout",
     "output_type": "stream",
     "text": [
      "/home/jonathanjonsson/MasterThesis/riscv-dv/out/rtl_log/riscv_ebreak_debug_mode_test_2022-03-03_17:10:26_0\n"
     ]
    },
    {
     "name": "stderr",
     "output_type": "stream",
     "text": [
      "100%|██████████| 104650/104650 [00:17<00:00, 6031.06it/s]\n",
      "100%|██████████| 100758/100758 [00:00<00:00, 913030.11it/s]\n"
     ]
    },
    {
     "name": "stdout",
     "output_type": "stream",
     "text": [
      "/home/jonathanjonsson/MasterThesis/riscv-dv/out/rtl_log/riscv_invalid_csr_test_2022-03-03_17:10:26_0\n"
     ]
    },
    {
     "name": "stderr",
     "output_type": "stream",
     "text": [
      "100%|██████████| 104633/104633 [00:16<00:00, 6247.98it/s]\n",
      "100%|██████████| 100741/100741 [00:00<00:00, 858076.62it/s]\n"
     ]
    },
    {
     "name": "stdout",
     "output_type": "stream",
     "text": [
      "/home/jonathanjonsson/MasterThesis/riscv-dv/out/rtl_log/riscv_pmp_test_2022-03-03_17:10:26_0\n"
     ]
    },
    {
     "name": "stderr",
     "output_type": "stream",
     "text": [
      "100%|██████████| 5234/5234 [00:00<00:00, 25819.81it/s]\n",
      "100%|██████████| 1142/1142 [00:00<00:00, 911839.93it/s]\n"
     ]
    },
    {
     "name": "stdout",
     "output_type": "stream",
     "text": [
      "/home/jonathanjonsson/MasterThesis/riscv-dv/out/rtl_log/riscv_floating_point_rand_test_2022-03-03_17:10:26_0\n"
     ]
    },
    {
     "name": "stderr",
     "output_type": "stream",
     "text": [
      "100%|██████████| 26624/26624 [00:03<00:00, 7054.68it/s]\n",
      "100%|██████████| 22730/22730 [00:00<00:00, 804826.52it/s]\n"
     ]
    },
    {
     "name": "stdout",
     "output_type": "stream",
     "text": [
      "/home/jonathanjonsson/MasterThesis/riscv-dv/out/rtl_log/riscv_illegal_instr_test_2022-03-03_17:10:26_0\n"
     ]
    },
    {
     "name": "stderr",
     "output_type": "stream",
     "text": [
      "100%|██████████| 18074/18074 [00:02<00:00, 7512.88it/s]\n",
      "100%|██████████| 14180/14180 [00:00<00:00, 808153.26it/s]\n"
     ]
    },
    {
     "name": "stdout",
     "output_type": "stream",
     "text": [
      "/home/jonathanjonsson/MasterThesis/riscv-dv/out/rtl_log/riscv_sfence_exception_test_2022-03-03_17:10:26_0\n"
     ]
    },
    {
     "name": "stderr",
     "output_type": "stream",
     "text": [
      "100%|██████████| 24516/24516 [00:03<00:00, 7221.07it/s]\n",
      "100%|██████████| 20622/20622 [00:00<00:00, 854203.49it/s]\n"
     ]
    },
    {
     "name": "stdout",
     "output_type": "stream",
     "text": [
      "/home/jonathanjonsson/MasterThesis/riscv-dv/out/rtl_log/riscv_hint_instr_test_2022-03-03_17:10:26_1\n"
     ]
    },
    {
     "name": "stderr",
     "output_type": "stream",
     "text": [
      "100%|██████████| 104650/104650 [00:17<00:00, 6060.91it/s]\n",
      "100%|██████████| 100758/100758 [00:00<00:00, 483434.44it/s]\n"
     ]
    },
    {
     "name": "stdout",
     "output_type": "stream",
     "text": [
      "/home/jonathanjonsson/MasterThesis/riscv-dv/out/rtl_log/riscv_jump_stress_test_2022-03-03_17:10:26_0\n"
     ]
    },
    {
     "name": "stderr",
     "output_type": "stream",
     "text": [
      "100%|██████████| 104632/104632 [00:16<00:00, 6193.85it/s]\n",
      "100%|██████████| 100740/100740 [00:00<00:00, 909961.35it/s]\n"
     ]
    },
    {
     "name": "stdout",
     "output_type": "stream",
     "text": [
      "/home/jonathanjonsson/MasterThesis/riscv-dv/out/rtl_log/riscv_mmu_stress_test_2022-03-03_17:10:26_0\n"
     ]
    },
    {
     "name": "stderr",
     "output_type": "stream",
     "text": [
      "100%|██████████| 16292/16292 [00:01<00:00, 8363.93it/s]\n",
      "100%|██████████| 12398/12398 [00:00<00:00, 941586.20it/s]\n"
     ]
    },
    {
     "name": "stdout",
     "output_type": "stream",
     "text": [
      "/home/jonathanjonsson/MasterThesis/riscv-dv/out/rtl_log/riscv_arithmetic_basic_test_2022-03-03_17:10:26_1\n"
     ]
    },
    {
     "name": "stderr",
     "output_type": "stream",
     "text": [
      "100%|██████████| 104650/104650 [00:17<00:00, 5997.07it/s]\n",
      "100%|██████████| 100758/100758 [00:00<00:00, 868439.71it/s]\n"
     ]
    },
    {
     "name": "stdout",
     "output_type": "stream",
     "text": [
      "/home/jonathanjonsson/MasterThesis/riscv-dv/out/rtl_log/riscv_loop_test_2022-03-03_17:10:26_0\n"
     ]
    },
    {
     "name": "stderr",
     "output_type": "stream",
     "text": [
      "100%|██████████| 21563/21563 [00:02<00:00, 7489.14it/s]\n",
      "100%|██████████| 17669/17669 [00:00<00:00, 874898.56it/s]\n"
     ]
    },
    {
     "name": "stdout",
     "output_type": "stream",
     "text": [
      "/home/jonathanjonsson/MasterThesis/riscv-dv/out/rtl_log/riscv_rand_jump_test_2022-03-03_17:10:26_0\n"
     ]
    },
    {
     "name": "stderr",
     "output_type": "stream",
     "text": [
      "100%|██████████| 104633/104633 [00:17<00:00, 6115.20it/s]\n",
      "100%|██████████| 100741/100741 [00:27<00:00, 3662.96it/s]\n"
     ]
    },
    {
     "name": "stdout",
     "output_type": "stream",
     "text": [
      "/home/jonathanjonsson/MasterThesis/riscv-dv/out/rtl_log/riscv_jump_stress_test_2022-03-03_17:10:26_1\n"
     ]
    },
    {
     "name": "stderr",
     "output_type": "stream",
     "text": [
      "100%|██████████| 104633/104633 [01:21<00:00, 1282.44it/s]\n",
      "100%|██████████| 100741/100741 [00:00<00:00, 197300.05it/s]\n"
     ]
    },
    {
     "name": "stdout",
     "output_type": "stream",
     "text": [
      "/home/jonathanjonsson/MasterThesis/riscv-dv/out/rtl_log/riscv_ebreak_test_2022-03-03_17:10:26_1\n"
     ]
    },
    {
     "name": "stderr",
     "output_type": "stream",
     "text": [
      "100%|██████████| 104650/104650 [00:16<00:00, 6294.82it/s]\n",
      "100%|██████████| 100758/100758 [00:00<00:00, 174062.01it/s]\n"
     ]
    },
    {
     "name": "stdout",
     "output_type": "stream",
     "text": [
      "/home/jonathanjonsson/MasterThesis/riscv-dv/out/rtl_log/riscv_invalid_csr_test_2022-03-03_17:10:26_1\n"
     ]
    },
    {
     "name": "stderr",
     "output_type": "stream",
     "text": [
      "100%|██████████| 16128/16128 [00:01<00:00, 8540.80it/s]\n",
      "100%|██████████| 12234/12234 [00:00<00:00, 919260.39it/s]\n"
     ]
    },
    {
     "name": "stdout",
     "output_type": "stream",
     "text": [
      "/home/jonathanjonsson/MasterThesis/riscv-dv/out/rtl_log/riscv_arithmetic_basic_test_2022-03-03_17:10:26_0\n"
     ]
    },
    {
     "name": "stderr",
     "output_type": "stream",
     "text": [
      "100%|██████████| 104650/104650 [03:56<00:00, 442.85it/s] \n",
      "100%|██████████| 100758/100758 [40:46<00:00, 41.18it/s]   \n"
     ]
    },
    {
     "name": "stdout",
     "output_type": "stream",
     "text": [
      "/home/jonathanjonsson/MasterThesis/riscv-dv/out/rtl_log/riscv_floating_point_mmu_stress_test_2022-03-03_17:10:26_1\n"
     ]
    },
    {
     "name": "stderr",
     "output_type": "stream",
     "text": [
      "100%|██████████| 104633/104633 [04:01<00:00, 433.03it/s] \n"
     ]
    }
   ],
   "source": [
    "#main\n",
    "# s,t = gen_test()\n",
    "# rtl_list = run_rtl(s,t)\n",
    "rtl_dataframes = parse_rtl(rtl_list)\n",
    "sim_dataframes = convert_sim_log_to_dataframe(rtl_list)\n",
    "compare_traces(rtl_dataframes,sim_dataframes)\n"
   ]
  },
  {
   "cell_type": "markdown",
   "metadata": {},
   "source": [
    "## Parse RTL transcript and create rtl_log"
   ]
  },
  {
   "cell_type": "code",
   "execution_count": 6,
   "metadata": {},
   "outputs": [],
   "source": [
    "def parse_rtl(filenames):\n",
    "    rtl_data_frames = []\n",
    "\n",
    "    for filename in filenames:\n",
    "        filename = settings['run_rtl']['paths']['rtl_log']+filename\n",
    "        try:\n",
    "            f = open(filename, \"r\")\n",
    "        except IOError:\n",
    "            print('Warning: File not found '+filename)\n",
    "            continue\n",
    "\n",
    "        transcript = f.readlines()\n",
    "        f.close()\n",
    "\n",
    "        pc,binary,instr,instr_str,gpr,csr,gpr_val,op_0,op_1,status,tval,mode,exception,valid = [],[],[],[],[],[],[],[],[],[],[],[],[],[]\n",
    "\n",
    "        for line in tqdm(transcript):\n",
    "            if(re.search(settings[\"parse_rtl\"][\"reg_ex\"][\"lookup\"],line)): #check that line conforms to format then extract information\n",
    "                valid.append(re.search(settings['parse_rtl']['reg_ex']['valid'], line).group(0))\n",
    "                        \n",
    "                pc_i = re.search(settings['parse_rtl']['reg_ex'][\"pc_csr_status_tval\"], line)\n",
    "                if(pc_i):\n",
    "                    pc.append(pc_i.group(0))\n",
    "                else:\n",
    "                    print(line)\n",
    "                    break\n",
    "                binary.append(re.search(settings['parse_rtl']['reg_ex'][\"binary\"], line).group(0))\n",
    "                instruction = re.search(settings['parse_rtl']['reg_ex']['instruction'], line)\n",
    "                if(instruction):\n",
    "                    instr.append(instruction.group(0))\n",
    "                else:\n",
    "                    raise RuntimeError(\"Instruction not present in RegEx\\n\"+line)\n",
    "                instr_str.append(re.search(settings['parse_rtl']['reg_ex'][\"instr_str\"], line).group(0))\n",
    "                match3 = re.search(settings['parse_rtl']['reg_ex'][\"gpr\"], line)\n",
    "                if(match3):\n",
    "                    gpr.append(match3.group(0))\n",
    "                else:\n",
    "                    gpr.append(\"\")\n",
    "                match4 = re.search(settings['parse_rtl']['reg_ex'][\"op1\"], line)\n",
    "                if(match4):\n",
    "                    op_0.append(match4.group(0))\n",
    "                else:\n",
    "                    op_0.append(\"\")\n",
    "                match5 = re.search(settings['parse_rtl']['reg_ex'][\"op2\"],line)\n",
    "                if(match5):\n",
    "                    op_1.append(match5.group(0).split(\", \")[2])\n",
    "                else:\n",
    "                    op_1.append(\"\")\n",
    "                match6 = re.search(settings['parse_rtl']['reg_ex'][\"csr\"],line)\n",
    "                if(match6):\n",
    "                    csr.append(match6.group(0))\n",
    "                else:\n",
    "                    print(line)\n",
    "                    raise RuntimeError(\"CSR RegEx not complete\")\n",
    "\n",
    "                match7 = re.findall(settings['parse_rtl']['reg_ex']['pc_csr_status_tval'],line)\n",
    "                if(len(match7) == 3):\n",
    "                    print(match7)\n",
    "                    print(line)\n",
    "                gpr_val.append(match7[1])\n",
    "                status.append(match7[2])\n",
    "                tval.append(match7[3])\n",
    "                mode.append(re.search(settings['parse_rtl']['reg_ex'][\"mode\"],line).group(0))\n",
    "                exception.append(re.search(settings['parse_rtl']['reg_ex'][\"exception\"],line).group(0))\n",
    "\n",
    "\n",
    "\n",
    "        columns = settings['parse_rtl']['columns']\n",
    "        rtl_log = pd.DataFrame(columns=columns)\n",
    "        rtl_log[columns[0]] = pc\n",
    "        rtl_log[columns[1]] = instr\n",
    "        rtl_log[columns[2]] = pd.Series(gpr) +\":\"+ pd.Series(gpr_val)\n",
    "        rtl_log[columns[3]] = pd.Series(csr) +\":\"+ pd.Series(status)\n",
    "        rtl_log[columns[4]] = binary\n",
    "        rtl_log[columns[5]] = mode\n",
    "        rtl_log[columns[6]] = instr_str\n",
    "        rtl_log[columns[7]] = pd.Series(gpr)+\",\"+pd.Series(op_0)+\",\"+pd.Series(op_1)\n",
    "        rtl_log[columns[8]] = valid\n",
    "        rtl_log[columns[9]] = exception\n",
    "        #log[columns[9]] = tval\n",
    "        del pc,binary,instr,instr_str,gpr,csr,gpr_val,op_0,op_1,status,tval,mode,exception,valid #delete tmp lists\n",
    "        rtl_log = rtl_log[boot_loader_length:].reset_index(drop=True) #boot_loader_length is where the bootloader ends\n",
    "        def replace_gpr(pd_series,gpr,re_gpr):\n",
    "            tmp = []\n",
    "            for line in tqdm(pd_series):\n",
    "                split_line = line.split(\":\")\n",
    "                if(len(split_line[0]) > 0 and split_line[0] == gpr):\n",
    "                    split_line[0] = re_gpr\n",
    "                ln = split_line[0]+\":\"+split_line[1]\n",
    "                tmp.append(ln)\n",
    "            return pd.Series(tmp)\n",
    "        rtl_log.gpr = replace_gpr(rtl_log.gpr, 'fp','s0') #replace fp with s0 to keep convention consistent\n",
    "        rtl_log['valid'] = rtl_log['valid'].astype('int32') #not true when we have an exception (ecall for instance)\n",
    "        #rtl_log = rtl_log[rtl_log.valid == 1].reset_index(drop=True) #only keep valid instructions\n",
    "        rtl_log = rtl_log[~((rtl_log['instr'] == \"addi\") & (rtl_log.shift(1)['instr'] == \"mret\") & (rtl_log['valid'] == 0))].reset_index(drop=True) #deal with gaislers addi injection after mret, this removes all of those lines\n",
    "        rtl_log['filename'] = filename.rstrip(\".rtl.log\")\n",
    "        print(filename.rstrip(\".rtl.log\"))\n",
    "        rtl_data_frames.append(rtl_log)\n",
    "    return rtl_data_frames "
   ]
  },
  {
   "cell_type": "markdown",
   "metadata": {},
   "source": [
    "## Convert OVPsimlog to csv"
   ]
  },
  {
   "cell_type": "code",
   "execution_count": 7,
   "metadata": {},
   "outputs": [],
   "source": [
    "def convert_sim_log_to_dataframe(filenames):\n",
    "    #expected .rtl.log extension\n",
    "    sim_data_frames = []\n",
    "    for file in filenames:\n",
    "        log = settings['gen_csv']['paths']['log']+file.rstrip('.rtl.log')+'.log'\n",
    "        csv = settings['gen_csv']['paths']['log']+file.rstrip('.rtl.log')+\".csv\"\n",
    "        process = Popen(settings['gen_csv']['process']+log+ \" --csv \"+csv, shell=True, stdout=PIPE, stderr=PIPE)\n",
    "        stdout, stderr = process.communicate()\n",
    "        error = stderr.decode('ascii')\n",
    "        find_error(settings['gen_csv']['errors'], error)\n",
    "        sim_log = pd.read_csv(csv)\n",
    "        sim_log['mode'] = sim_log['mode'].astype('Int64')\n",
    "        sim_log['gpr'] = sim_log['gpr'].astype('str')\n",
    "        sim_log['csr'] = sim_log['csr'].astype('str')\n",
    "        sim_log['filename'] = file.rstrip(\".log\")\n",
    "        sim_data_frames.append(sim_log)\n",
    "    return sim_data_frames\n"
   ]
  },
  {
   "cell_type": "markdown",
   "metadata": {},
   "source": [
    "## Compare series to see if run was successful"
   ]
  },
  {
   "cell_type": "code",
   "execution_count": 8,
   "metadata": {},
   "outputs": [],
   "source": [
    "#Truncation\n",
    "def compare_traces(rtl_data_frames, sim_data_frames):\n",
    "    if(len(rtl_data_frames) != len(sim_data_frames)):\n",
    "        raise ValueError('Lists of dataframes are not the same length')\n",
    "    errors = pd.DataFrame(columns=settings[\"trace_compare\"][\"columns\"])\n",
    "    for rtl_log, sim_log in zip(rtl_data_frames,sim_data_frames):\n",
    "\n",
    "        if(abs(len(sim_log)-len(rtl_log) < 100)):\n",
    "            if(len(sim_log) < len(rtl_log)):\n",
    "                rtl_log=rtl_log.truncate(after=len(sim_log)-1)\n",
    "                print(\"Truncating rtl_log to {} elements to meet size of sim_log\".format(len(rtl_log)))\n",
    "            elif(len(sim_log) == len(rtl_log)):\n",
    "                print(\"Both logs are equally sized\")\n",
    "\n",
    "            else:\n",
    "                sim_log=sim_log.truncate(after=len(rtl_log)-1)\n",
    "                print(\"Truncating sim_log to {} elements to meet size of rtl_log\".format(len(rtl_log)))\n",
    "        else:\n",
    "            raise RuntimeError(\"Lengths of series differs with \"+str(abs(len(sim_log)-len(rtl_log)))+\" elements\") \n",
    "\n",
    "        #Csr match conditions\n",
    "        mt_csr_0 = sim_log.csr != \"nan\"\n",
    "\n",
    "            \n",
    "        rtl_csr = rtl_log[(rtl_log.csr.ne(sim_log.csr) & mt_csr_0)].csr #these are the ones we can't exclude directly\n",
    "        sim_csr = sim_log[rtl_log.csr.ne(sim_log.csr) & mt_csr_0].csr.str.split(\";\") \n",
    "        csr_match_count = compare_csr(sim_csr, rtl_csr)\n",
    "\n",
    "        mt_csr_1 = csr_information_present(sim_csr,rtl_csr) #ignore csr comparisons where for example mstatus is present the iss but not in the rtl log\n",
    "\n",
    "\n",
    "\n",
    "        matching_gpr = len(sim_log[(sim_log.gpr != \"nan\") & (rtl_log.gpr == sim_log.gpr)])\n",
    "        nan_cnt_gpr = len(sim_log[sim_log.gpr == \"nan\"])\n",
    "\n",
    "\n",
    "        rtl_csr = rtl_log[(rtl_log.csr.ne(sim_log.csr) & mt_csr_0)].csr #these are the ones we can't exclude directly\n",
    "        sim_csr = sim_log[rtl_log.csr.ne(sim_log.csr) & mt_csr_0].csr.str.split(\";\") \n",
    "        csr_match_count = compare_csr(sim_csr, rtl_csr)\n",
    "\n",
    "        #these csrs only contain one update to the csr, however, where ovpsim reports more than one update we use csr_match_count\n",
    "        matching_csr = sim_log[((sim_log.csr != \"nan\")) & (rtl_log.csr.eq(sim_log.csr))].csr.count() + csr_match_count\n",
    "        nan_cnt_csr = sim_log[(sim_log.csr == \"nan\")].csr.count() + mt_csr_1[mt_csr_1 == False].count()\n",
    "\n",
    "\n",
    "        tot_cnt_gpr = matching_gpr + nan_cnt_gpr\n",
    "        gpr_match = (tot_cnt_gpr == len(rtl_log.gpr))\n",
    "        binary_match = rtl_log.binary.eq(sim_log.binary).all()\n",
    "        pc_match = rtl_log.pc.eq(sim_log.pc).all()\n",
    "\n",
    "        csr_match = (matching_csr+nan_cnt_csr == len(rtl_log.csr))\n",
    "        ig_csr_perc = 1-matching_csr/(rtl_log.csr.count()-sim_log.csr[(sim_log.csr==\"nan\")].count())\n",
    "\n",
    "        if(gpr_match and binary_match and pc_match and csr_match):\n",
    "            print(\"GPR, Binary, PC and CSR contents match\\nIgnored {:.1%} CSR and {:.1%} of GPR comparisons\".format(ig_csr_perc,nan_cnt_gpr/rtl_log.gpr.count()))\n",
    "        else:\n",
    "            print(\"PC match: {}\\nBinary match: {}\\nGPR match: {}\\nCSR match: {}\\nIgnored {:.1%} CSR and {:.1%} GPR comparisons\".format(pc_match,binary_match,gpr_match,csr_match,ig_csr_perc,nan_cnt_gpr/rtl_log.gpr.count()))\n",
    "            errors = pd.DataFrame(columns=settings[\"compare_traces\"][\"columns\"])\n",
    "            errors['Test'] = zip(rtl_log['filename'], sim_log['filename'])\n",
    "            errors['Iteration'] = re.search('(?<=:\\d{2}_)\\d*',rtl_log.filename).group(0)\n",
    "            errors['Date'] = re.search('\\d{4}-\\d{2}-\\d{2}_\\d{2}:\\d{2}:\\d{2}',rtl_log.filename).group(0)\n",
    "            errors['GPR Pass'] = gpr_match\n",
    "            errors['PC Pass'] = pc_match\n",
    "            errors['Binary Pass'] = binary_match\n",
    "            errors['CSR Pass'] = csr_match\n",
    "            errors.to_csv(riscv_dv+'error_log.csv',mode='a')"
   ]
  },
  {
   "cell_type": "code",
   "execution_count": 28,
   "metadata": {},
   "outputs": [
    {
     "data": {
      "text/plain": [
       "'0'"
      ]
     },
     "execution_count": 28,
     "metadata": {},
     "output_type": "execute_result"
    }
   ],
   "source": [
    "errors = pd.DataFrame(columns=settings[\"compare_traces\"][\"columns\"])\n",
    "errors['Test'] = zip(rtl_log['filename'].values[0], sim_log['filename'].values[0])\n",
    "errors['Iteration'] = re.search('(?<=:\\d{2}_)\\d*',rtl_log.filename).group(0)\n",
    "errors['Date'] = re.search('\\d{4}-\\d{2}-\\d{2}_\\d{2}:\\d{2}:\\d{2}',rtl_log.filename).group(0)\n",
    "errors['GPR Pass'] = gpr_match\n",
    "errors['PC Pass'] = pc_match\n",
    "errors['Binary Pass'] = binary_match\n",
    "errors['CSR Pass'] = csr_match\n",
    "\n",
    "\n",
    "# \"Test\" = Name of test,\n",
    "# 'Iteration' = Which iteration failed,\n",
    "# 'Date' = Date of Failure,\n",
    "# 'GPR Pass' = Boolean,\n",
    "# 'CSR Pass' = Boolean,\n",
    "# 'PC Pass' += Boolean,\n",
    "# 'Binary Pass' = Boolean,\n",
    "# 'ISS Snippet' = ISS Reference output for diverging trace,\n",
    "# 'RTL Snippet' = RTL trace for the diverging lines\n",
    "# rtl_log.to_csv('/home/jonathanjonsson/Documents/test_log.csv',mode='a')"
   ]
  },
  {
   "cell_type": "code",
   "execution_count": null,
   "metadata": {},
   "outputs": [],
   "source": [
    "## Coverage results\n",
    "\n",
    "path = glob.glob(settings[\"gen_cov\"][\"paths\"][\"logs\"])\n",
    "process = Popen(settings[\"gen_cov\"][\"process_param\"]+settings[\"gen_cov\"][\"test_param\"]+\" --dir \"+path[0], shell=True, stdout=PIPE, stderr=PIPE)\n",
    "\n",
    "stdout, stderr = process.communicate()\n",
    "cov_out = stdout.decode('ascii')\n",
    "cov_err = stderr.decode('ascii')\n",
    "if(find_success(settings['gen_cov']['test_sucess'],cov_err)):\n",
    "    print(\"Coverage results produced successfully\")\n",
    "else:\n",
    "    print(cov_err)\n"
   ]
  }
 ],
 "metadata": {
  "kernelspec": {
   "display_name": "Python 3",
   "language": "python",
   "name": "python3"
  },
  "language_info": {
   "codemirror_mode": {
    "name": "ipython",
    "version": 3
   },
   "file_extension": ".py",
   "mimetype": "text/x-python",
   "name": "python",
   "nbconvert_exporter": "python",
   "pygments_lexer": "ipython3",
   "version": "3.6.12"
  }
 },
 "nbformat": 4,
 "nbformat_minor": 4
}
