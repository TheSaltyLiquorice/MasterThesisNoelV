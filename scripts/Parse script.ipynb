{
 "cells": [
  {
   "cell_type": "code",
   "execution_count": 1,
   "metadata": {},
   "outputs": [],
   "source": [
    "import re\n",
    "import os\n",
    "import numpy as np\n",
    "import glob\n",
    "from tqdm import tqdm\n",
    "import pandas as pd\n",
    "from subprocess import Popen, PIPE, call, check_call\n",
    "import datetime\n",
    "import shutil\n",
    "from datetime import datetime\n",
    "import time\n",
    "\n",
    "from help_functions import * #user def\n",
    "from lut import tests\n",
    "\n"
   ]
  },
  {
   "cell_type": "markdown",
   "metadata": {},
   "source": [
    "## General defines, paths etc"
   ]
  },
  {
   "cell_type": "code",
   "execution_count": 2,
   "metadata": {},
   "outputs": [
    {
     "name": "stdout",
     "output_type": "stream",
     "text": [
      "Running the test: riscv_mmu_stress_test\n"
     ]
    }
   ],
   "source": [
    "transcript_path = os.environ['NOELV']\n",
    "grlib_path = os.environ['GRLIB']\n",
    "riscv_dv = os.environ['r_dv']+\"/\"\n",
    "\n",
    "test_number = 5\n",
    "print(\"Running the test: {}\".format(tests[test_number]))\n",
    "now = datetime.now()\n",
    "current_time = now.strftime(\"%Y-%m-%d\")\n",
    "finish_after = int(1e5)\n",
    "boot_loader_length = 41\n",
    "instr_cnt = finish_after+boot_loader_length+2 #+41 to account for bootloader, +2 for counter trailing"
   ]
  },
  {
   "cell_type": "code",
   "execution_count": 31,
   "metadata": {},
   "outputs": [],
   "source": [
    "#Each level correponds to one cell\n",
    "settings = {\n",
    "    \"gen_test\":{\n",
    "        \"errors\":[\"You do not have a valid license to run Riviera-PRO\"],\n",
    "        \"paths\":{\n",
    "            \"test\":riscv_dv+\"out_\"+current_time+\"/ovpsim_sim/\"+tests[test_number]+\"*.log\",\n",
    "            \"Makefile\":grlib_path+\"/designs/noelv-generic/Makefile\",\n",
    "        },\n",
    "        \"test_param\" : \"python3 run.py --custom_target target/rv64_noelv/ --iss ovpsim --simulator riviera --isa rv64gc --mabi lp64 --test \"+tests[test_number]+\" --iterations 1\",\n",
    "        \"process_param\" : 'cd '+riscv_dv+' && source ~/.bashrc && module load aldec/riviera/2021.10 &&',\n",
    "        \"timeout\" : False,\n",
    "        \"arg_timeout\" : \"-gdisas=1 -gfinish_after_en=1 -gfinish_after=\"+str(instr_cnt),\n",
    "        \"arg_no_timeout\" : \"-gdisas=1 -gfinish_after_en=0 -gfinish_after=0\",\n",
    "        \"iteration\":-1, #will be set when run\n",
    "    },\n",
    "    \"run_rtl\":{\n",
    "        \"paths\":{\n",
    "            \"cp_dest\":transcript_path+'ram.srec',\n",
    "            \"rtl_log\":riscv_dv+\"out_\"+current_time+\"/rtl_log/\",\n",
    "            \"rtl_log_out\":riscv_dv+\"out_\"+current_time+\"/rtl_log/\"+tests[test_number],\n",
    "            \"transcript\":transcript_path+\"transcript\",\n",
    "            \n",
    "        },\n",
    "        \"test\":riscv_dv+\"out_\"+current_time+\"/asm_test/\"+tests[test_number]+\"*.srec\",\n",
    "        \"process_param\":'cd '+transcript_path+' && source ~/.bashrc && module add mentor/questasim/2021.3 && make sim-run',\n",
    "        \"test_sucess\":[\"# ** Failure: *** IU in error mode, simulation halted ***\",\"Test finished after\",\"** Failure: Assertion violation.\"],\n",
    "    },\n",
    "    \"parse_rtl\":{\n",
    "        \"reg_ex\":{\n",
    "            \"lookup\":re.compile(\"#\\s*\\d*\\s*ns\\s*:\\sC\\d I\\d : \\d*\\s*\\[\\d\\] @0x[0-9a-fA-F]{16} \\(0x[0-9a-fA-F]{4,8}\\)\\s*.*\"),\n",
    "            \"pc_csr_status_tval\":re.compile(\"[0-9a-fA-F]{16}|X{16}\"),\n",
    "            \"binary\" : re.compile(\"(?<=(\\(0x))[a0-z9]{4,8}(?=\\))\"), #opcode\n",
    "            \"instruction\" : re.compile(\"\\w{2,8}(?=(\\s\\w{2,3},))|(\\w*\\.[a-z])|nop|mret|ecall|fence|unknown instruction|ebreak|fld\"),\n",
    "            \"instr_str\" : re.compile(\"\\w*\\s\\w*,\\s\\w*,\\s-?\\w*(?=\\s*W)|\\w*(?=\\s*W)|\\w*\\s\\w*,\\s\\w*(?=\\s*W)\"), #ugly\n",
    "            \"gpr\" : re.compile(\"(?<=([a-z]{2}\\s))\\w{2,3}(?=,)\"),\n",
    "            \"op1\" : re.compile(\"(?<=,\\s)\\w{1,8}((?=,)|(?=\\s*W))|0\\(\\w{2,3}\\)\"), \n",
    "            \"op2\" : re.compile(\"(\\w*,\\s\\w*,\\s-?\\w*)\"), #use split to get op2, don't have a nicer regex atm\n",
    "            \"csr\" : re.compile(\"\\w*(?=\\s*=\\w*\\]\\[\\d\\]\\sIPC)\"),\n",
    "            \"mode\" : re.compile(\"(?<=PRV\\[)\\d*\"),\n",
    "            \"valid\" : re.compile(\"(?<=\\[)\\d(?=\\]\\s@)\"),\n",
    "            \"exception\" : re.compile(\"(?<=\\[)\\d(?=\\]\\sPRV)\"),\n",
    "        },\n",
    "        \"columns\":['pc','instr','gpr','csr','binary','mode','instr_str','operand','valid','exception'],\n",
    "\n",
    "    },\n",
    "    \"gen_csv\":{\n",
    "        \"paths\":{\n",
    "            \"csv_log\":riscv_dv+\"out_\"+current_time+\"/ovpsim_sim/\"+tests[test_number]+\"*.log\",\n",
    "            \"csv_out\":riscv_dv+\"out_\"+current_time+\"/ovpsim_sim/\"+tests[test_number]+\"*.csv\",  \n",
    "        },\n",
    "        \"process\":\"python3 \"+riscv_dv+\"scripts/ovpsim_log_to_trace_csv.py --dont_truncate_after_first_ecall --log \",\n",
    "\n",
    "    },\n",
    "    \"gen_cov\":{\n",
    "        \"paths\":{\n",
    "            \"logs\": riscv_dv+\"out_\"+current_time+\"/ovpsim_sim/\",\n",
    "        },\n",
    "        \"test_param\" : \"python3 cov.py --iss ovpsim -si riviera --custom_target target/rv64_noelv/\",\n",
    "        \"process_param\": 'cd '+riscv_dv+' && source ~/.bashrc && module load aldec/riviera/2021.10 && ',\n",
    "        \"test_sucess\": \"Coverage results are saved\",\n",
    "    }\n",
    "\n",
    "    \n",
    "}"
   ]
  },
  {
   "cell_type": "markdown",
   "metadata": {},
   "source": [
    "## Generate RISCV-DV tests and run OVPsim\n",
    "- Tests that work: 0\n",
    "- Tests that sometimes timeout but sometimes doesn't: 1, 2, 10\n",
    "- Tests that doesn't run at all (sometimes): 1, 2, 5, 6, 8, 9 (Never enters program after running the bootloader)\n",
    "- Test 7 seems to outright fail"
   ]
  },
  {
   "cell_type": "code",
   "execution_count": 33,
   "metadata": {},
   "outputs": [
    {
     "name": "stdout",
     "output_type": "stream",
     "text": [
      "OVPsim timeout = True\n",
      "Program size = 907148\n"
     ]
    }
   ],
   "source": [
    "process = Popen(settings['gen_test']['process_param']+settings[\"gen_test\"][\"test_param\"], shell=True, stdout=PIPE, stderr=PIPE)\n",
    "\n",
    "stdout, stderr = process.communicate()\n",
    "error = stderr.decode('ascii')\n",
    "\n",
    "if(find_error(settings['gen_test']['errors'], error)):\n",
    "    path = glob.glob(settings['gen_test']['paths'][\"test\"])\n",
    "    #print(path[0])    \n",
    "    with open(path[0],\"r\") as f:\n",
    "        settings['gen_test']['timeout'] = f.read().find(\"Info \"+str(finish_after)+\":\") != -1\n",
    "        f.close()\n",
    "        \n",
    "arg = settings[\"gen_test\"][\"arg_timeout\"] if settings[\"gen_test\"][\"timeout\"] else settings[\"gen_test\"][\"arg_no_timeout\"]\n",
    "\n",
    "with open(settings['gen_test']['paths']['Makefile'],\"r\") as f:\n",
    "    txt = f.read()\n",
    "    tmp = re.sub(\"(?<=VSIMOPT=).*\",arg,txt)\n",
    "    f.close()\n",
    "    f = open(settings['gen_test']['paths']['Makefile'],\"w\")\n",
    "    f.write(tmp)\n",
    "    f.close()\n",
    "    \n",
    "\n",
    "print(\"OVPsim timeout = {}\".format(settings[\"gen_test\"][\"timeout\"]))\n",
    "srec_tests = glob.glob(settings['run_rtl']['test'])\n",
    "settings['gen_test']['iteration'] = re.search(\"\\d*(?=.srec)\",str(srec_tests)).group(0)\n",
    "print(\"Program size = \"+str(os.path.getsize(srec_tests[0])))\n"
   ]
  },
  {
   "cell_type": "markdown",
   "metadata": {},
   "source": [
    "## Run RTL simulation\n"
   ]
  },
  {
   "cell_type": "code",
   "execution_count": 32,
   "metadata": {},
   "outputs": [
    {
     "name": "stdout",
     "output_type": "stream",
     "text": [
      "Copied /home/jonathanjonsson/MasterThesis/riscv-dv/out_2022-03-02/asm_test/riscv_mmu_stress_test_0.srec to the NOELV directory\n"
     ]
    },
    {
     "ename": "KeyboardInterrupt",
     "evalue": "",
     "output_type": "error",
     "traceback": [
      "\u001b[0;31m---------------------------------------------------------------------------\u001b[0m",
      "\u001b[0;31mKeyboardInterrupt\u001b[0m                         Traceback (most recent call last)",
      "\u001b[0;32m<ipython-input-32-7695d56f2bcb>\u001b[0m in \u001b[0;36m<module>\u001b[0;34m\u001b[0m\n\u001b[1;32m      4\u001b[0m \u001b[0;31m#launch sim\u001b[0m\u001b[0;34m\u001b[0m\u001b[0;34m\u001b[0m\u001b[0;34m\u001b[0m\u001b[0m\n\u001b[1;32m      5\u001b[0m \u001b[0mprocess\u001b[0m \u001b[0;34m=\u001b[0m \u001b[0mPopen\u001b[0m\u001b[0;34m(\u001b[0m\u001b[0msettings\u001b[0m\u001b[0;34m[\u001b[0m\u001b[0;34m'run_rtl'\u001b[0m\u001b[0;34m]\u001b[0m\u001b[0;34m[\u001b[0m\u001b[0;34m'process_param'\u001b[0m\u001b[0;34m]\u001b[0m\u001b[0;34m,\u001b[0m \u001b[0mshell\u001b[0m\u001b[0;34m=\u001b[0m\u001b[0;32mTrue\u001b[0m\u001b[0;34m,\u001b[0m \u001b[0mstdout\u001b[0m\u001b[0;34m=\u001b[0m\u001b[0mPIPE\u001b[0m\u001b[0;34m,\u001b[0m \u001b[0mstderr\u001b[0m\u001b[0;34m=\u001b[0m\u001b[0mPIPE\u001b[0m\u001b[0;34m)\u001b[0m\u001b[0;34m\u001b[0m\u001b[0;34m\u001b[0m\u001b[0m\n\u001b[0;32m----> 6\u001b[0;31m \u001b[0mstdout\u001b[0m\u001b[0;34m,\u001b[0m \u001b[0mstderr\u001b[0m \u001b[0;34m=\u001b[0m \u001b[0mprocess\u001b[0m\u001b[0;34m.\u001b[0m\u001b[0mcommunicate\u001b[0m\u001b[0;34m(\u001b[0m\u001b[0;34m)\u001b[0m\u001b[0;34m\u001b[0m\u001b[0;34m\u001b[0m\u001b[0m\n\u001b[0m\u001b[1;32m      7\u001b[0m \u001b[0mrtl_out\u001b[0m \u001b[0;34m=\u001b[0m \u001b[0mstdout\u001b[0m\u001b[0;34m.\u001b[0m\u001b[0mdecode\u001b[0m\u001b[0;34m(\u001b[0m\u001b[0;34m'ascii'\u001b[0m\u001b[0;34m)\u001b[0m\u001b[0;34m\u001b[0m\u001b[0;34m\u001b[0m\u001b[0m\n\u001b[1;32m      8\u001b[0m \u001b[0;34m\u001b[0m\u001b[0m\n",
      "\u001b[0;32m/usr/lib64/python3.6/subprocess.py\u001b[0m in \u001b[0;36mcommunicate\u001b[0;34m(self, input, timeout)\u001b[0m\n\u001b[1;32m    861\u001b[0m \u001b[0;34m\u001b[0m\u001b[0m\n\u001b[1;32m    862\u001b[0m             \u001b[0;32mtry\u001b[0m\u001b[0;34m:\u001b[0m\u001b[0;34m\u001b[0m\u001b[0;34m\u001b[0m\u001b[0m\n\u001b[0;32m--> 863\u001b[0;31m                 \u001b[0mstdout\u001b[0m\u001b[0;34m,\u001b[0m \u001b[0mstderr\u001b[0m \u001b[0;34m=\u001b[0m \u001b[0mself\u001b[0m\u001b[0;34m.\u001b[0m\u001b[0m_communicate\u001b[0m\u001b[0;34m(\u001b[0m\u001b[0minput\u001b[0m\u001b[0;34m,\u001b[0m \u001b[0mendtime\u001b[0m\u001b[0;34m,\u001b[0m \u001b[0mtimeout\u001b[0m\u001b[0;34m)\u001b[0m\u001b[0;34m\u001b[0m\u001b[0;34m\u001b[0m\u001b[0m\n\u001b[0m\u001b[1;32m    864\u001b[0m             \u001b[0;32mfinally\u001b[0m\u001b[0;34m:\u001b[0m\u001b[0;34m\u001b[0m\u001b[0;34m\u001b[0m\u001b[0m\n\u001b[1;32m    865\u001b[0m                 \u001b[0mself\u001b[0m\u001b[0;34m.\u001b[0m\u001b[0m_communication_started\u001b[0m \u001b[0;34m=\u001b[0m \u001b[0;32mTrue\u001b[0m\u001b[0;34m\u001b[0m\u001b[0;34m\u001b[0m\u001b[0m\n",
      "\u001b[0;32m/usr/lib64/python3.6/subprocess.py\u001b[0m in \u001b[0;36m_communicate\u001b[0;34m(self, input, endtime, orig_timeout)\u001b[0m\n\u001b[1;32m   1532\u001b[0m                         \u001b[0;32mraise\u001b[0m \u001b[0mTimeoutExpired\u001b[0m\u001b[0;34m(\u001b[0m\u001b[0mself\u001b[0m\u001b[0;34m.\u001b[0m\u001b[0margs\u001b[0m\u001b[0;34m,\u001b[0m \u001b[0morig_timeout\u001b[0m\u001b[0;34m)\u001b[0m\u001b[0;34m\u001b[0m\u001b[0;34m\u001b[0m\u001b[0m\n\u001b[1;32m   1533\u001b[0m \u001b[0;34m\u001b[0m\u001b[0m\n\u001b[0;32m-> 1534\u001b[0;31m                     \u001b[0mready\u001b[0m \u001b[0;34m=\u001b[0m \u001b[0mselector\u001b[0m\u001b[0;34m.\u001b[0m\u001b[0mselect\u001b[0m\u001b[0;34m(\u001b[0m\u001b[0mtimeout\u001b[0m\u001b[0;34m)\u001b[0m\u001b[0;34m\u001b[0m\u001b[0;34m\u001b[0m\u001b[0m\n\u001b[0m\u001b[1;32m   1535\u001b[0m                     \u001b[0mself\u001b[0m\u001b[0;34m.\u001b[0m\u001b[0m_check_timeout\u001b[0m\u001b[0;34m(\u001b[0m\u001b[0mendtime\u001b[0m\u001b[0;34m,\u001b[0m \u001b[0morig_timeout\u001b[0m\u001b[0;34m)\u001b[0m\u001b[0;34m\u001b[0m\u001b[0;34m\u001b[0m\u001b[0m\n\u001b[1;32m   1536\u001b[0m \u001b[0;34m\u001b[0m\u001b[0m\n",
      "\u001b[0;32m/usr/lib64/python3.6/selectors.py\u001b[0m in \u001b[0;36mselect\u001b[0;34m(self, timeout)\u001b[0m\n\u001b[1;32m    374\u001b[0m             \u001b[0mready\u001b[0m \u001b[0;34m=\u001b[0m \u001b[0;34m[\u001b[0m\u001b[0;34m]\u001b[0m\u001b[0;34m\u001b[0m\u001b[0;34m\u001b[0m\u001b[0m\n\u001b[1;32m    375\u001b[0m             \u001b[0;32mtry\u001b[0m\u001b[0;34m:\u001b[0m\u001b[0;34m\u001b[0m\u001b[0;34m\u001b[0m\u001b[0m\n\u001b[0;32m--> 376\u001b[0;31m                 \u001b[0mfd_event_list\u001b[0m \u001b[0;34m=\u001b[0m \u001b[0mself\u001b[0m\u001b[0;34m.\u001b[0m\u001b[0m_poll\u001b[0m\u001b[0;34m.\u001b[0m\u001b[0mpoll\u001b[0m\u001b[0;34m(\u001b[0m\u001b[0mtimeout\u001b[0m\u001b[0;34m)\u001b[0m\u001b[0;34m\u001b[0m\u001b[0;34m\u001b[0m\u001b[0m\n\u001b[0m\u001b[1;32m    377\u001b[0m             \u001b[0;32mexcept\u001b[0m \u001b[0mInterruptedError\u001b[0m\u001b[0;34m:\u001b[0m\u001b[0;34m\u001b[0m\u001b[0;34m\u001b[0m\u001b[0m\n\u001b[1;32m    378\u001b[0m                 \u001b[0;32mreturn\u001b[0m \u001b[0mready\u001b[0m\u001b[0;34m\u001b[0m\u001b[0;34m\u001b[0m\u001b[0m\n",
      "\u001b[0;31mKeyboardInterrupt\u001b[0m: "
     ]
    }
   ],
   "source": [
    "srec_tests = glob.glob(settings['run_rtl']['test'])\n",
    "shutil.copy(srec_tests[0], settings['run_rtl']['paths']['cp_dest']) #copy the current test to the sim dir\n",
    "print(\"Copied {} to the NOELV directory\".format(srec_tests[0]))\n",
    "#launch sim\n",
    "process = Popen(settings['run_rtl']['process_param'], shell=True, stdout=PIPE, stderr=PIPE)\n",
    "stdout, stderr = process.communicate()\n",
    "rtl_out = stdout.decode('ascii')\n",
    "\n",
    "\n",
    "if(find_success(settings['run_rtl']['test_sucess'],rtl_out)):\n",
    "    print(\"RTL Simulation Success\")\n",
    "else:\n",
    "    print(\"RTL Simulation Failed\")\n",
    "\n",
    "if not os.path.exists(settings['run_rtl']['paths']['rtl_log']):\n",
    "    os.mkdir(settings['run_rtl']['paths']['rtl_log'])\n",
    "shutil.copy(settings['run_rtl']['paths']['transcript'], settings['run_rtl']['paths']['rtl_log_out']+\"_\"+settings['gen_test']['iterations']+\".rtl.log\")"
   ]
  },
  {
   "cell_type": "markdown",
   "metadata": {},
   "source": [
    "## Parse RTL transcript and create rtl_log"
   ]
  },
  {
   "cell_type": "code",
   "execution_count": 4,
   "metadata": {},
   "outputs": [
    {
     "name": "stderr",
     "output_type": "stream",
     "text": [
      "100%|██████████| 104640/104640 [00:20<00:00, 5065.94it/s]\n",
      "100%|██████████| 100741/100741 [00:00<00:00, 834927.38it/s]\n"
     ]
    }
   ],
   "source": [
    "match = 0\n",
    "f = open(settings[\"run_rtl\"][\"paths\"][\"transcript\"])\n",
    "transcript = f.readlines()\n",
    "f.close()\n",
    "\n",
    "pc,binary,instr,instr_str,gpr,csr,gpr_val,op_0,op_1,status,tval,mode,exception,valid = [],[],[],[],[],[],[],[],[],[],[],[],[],[]\n",
    "\n",
    "for line in tqdm(transcript):\n",
    "    if(re.search(settings[\"parse_rtl\"][\"reg_ex\"][\"lookup\"],line)): #check that line conforms to format then extract information\n",
    "        valid.append(re.search(settings['parse_rtl']['reg_ex']['valid'], line).group(0))\n",
    "                \n",
    "        pc_i = re.search(settings['parse_rtl']['reg_ex'][\"pc_csr_status_tval\"], line)\n",
    "        if(pc_i):\n",
    "            pc.append(pc_i.group(0))\n",
    "        else:\n",
    "            print(line)\n",
    "            break\n",
    "        binary.append(re.search(settings['parse_rtl']['reg_ex'][\"binary\"], line).group(0))\n",
    "        instruction = re.search(settings['parse_rtl']['reg_ex']['instruction'], line)\n",
    "        if(instruction):\n",
    "            instr.append(instruction.group(0))\n",
    "        else:\n",
    "            raise RuntimeError(\"Instruction not present in RegEx\\n\"+line)\n",
    "        instr_str.append(re.search(settings['parse_rtl']['reg_ex'][\"instr_str\"], line).group(0))\n",
    "        match3 = re.search(settings['parse_rtl']['reg_ex'][\"gpr\"], line)\n",
    "        if(match3):\n",
    "            gpr.append(match3.group(0))\n",
    "        else:\n",
    "            gpr.append(\"\")\n",
    "        match4 = re.search(settings['parse_rtl']['reg_ex'][\"op1\"], line)\n",
    "        if(match4):\n",
    "            op_0.append(match4.group(0))\n",
    "        else:\n",
    "            op_0.append(\"\")\n",
    "        match5 = re.search(settings['parse_rtl']['reg_ex'][\"op2\"],line)\n",
    "        if(match5):\n",
    "            op_1.append(match5.group(0).split(\", \")[2])\n",
    "        else:\n",
    "            op_1.append(\"\")\n",
    "        match6 = re.search(settings['parse_rtl']['reg_ex'][\"csr\"],line)\n",
    "        if(match6):\n",
    "            csr.append(match6.group(0))\n",
    "        else:\n",
    "            print(line)\n",
    "            raise RuntimeError(\"CSR RegEx not complete\")\n",
    "\n",
    "        match7 = re.findall(settings['parse_rtl']['reg_ex']['pc_csr_status_tval'],line)\n",
    "        if(len(match7) == 3):\n",
    "            print(match7)\n",
    "            print(line)\n",
    "        gpr_val.append(match7[1])\n",
    "        status.append(match7[2])\n",
    "        tval.append(match7[3])\n",
    "        mode.append(re.search(settings['parse_rtl']['reg_ex'][\"mode\"],line).group(0))\n",
    "        exception.append(re.search(settings['parse_rtl']['reg_ex'][\"exception\"],line).group(0))\n",
    "\n",
    "\n",
    "\n",
    "columns = settings['parse_rtl']['columns']\n",
    "rtl_log = pd.DataFrame(columns=columns)\n",
    "rtl_log[columns[0]] = pc\n",
    "rtl_log[columns[1]] = instr\n",
    "rtl_log[columns[2]] = pd.Series(gpr) +\":\"+ pd.Series(gpr_val)\n",
    "rtl_log[columns[3]] = pd.Series(csr) +\":\"+ pd.Series(status)\n",
    "rtl_log[columns[4]] = binary\n",
    "rtl_log[columns[5]] = mode\n",
    "rtl_log[columns[6]] = instr_str\n",
    "rtl_log[columns[7]] = pd.Series(gpr)+\",\"+pd.Series(op_0)+\",\"+pd.Series(op_1)\n",
    "rtl_log[columns[8]] = valid\n",
    "rtl_log[columns[9]] = exception\n",
    "#log[columns[9]] = tval\n",
    "del pc,binary,instr,instr_str,gpr,csr,gpr_val,op_0,op_1,status,tval,mode,exception,valid #delete tmp lists\n",
    "rtl_log = rtl_log[boot_loader_length:].reset_index(drop=True) #boot_loader_length is where the bootloader ends\n",
    "def replace_gpr(pd_series,gpr,re_gpr):\n",
    "    tmp = []\n",
    "    for line in tqdm(pd_series):\n",
    "        split_line = line.split(\":\")\n",
    "        if(len(split_line[0]) > 0 and split_line[0] == gpr):\n",
    "            split_line[0] = re_gpr\n",
    "        ln = split_line[0]+\":\"+split_line[1]\n",
    "        tmp.append(ln)\n",
    "    return pd.Series(tmp)\n",
    "rtl_log.gpr = replace_gpr(rtl_log.gpr, 'fp','s0') #replace fp with s0 to keep convention consistent\n",
    "rtl_log['valid'] = rtl_log['valid'].astype('int32') #not true when we have an exception (ecall for instance)\n",
    "#rtl_log = rtl_log[rtl_log.valid == 1].reset_index(drop=True) #only keep valid instructions\n",
    "rtl_log = rtl_log[~((rtl_log['instr'] == \"addi\") & (rtl_log.shift(1)['instr'] == \"mret\") & (rtl_log['valid'] == 0))].reset_index(drop=True) #deal with gaislers addi injection after mret, this removes all of those lines\n"
   ]
  },
  {
   "cell_type": "markdown",
   "metadata": {},
   "source": [
    "## Convert OVPsimlog to csv"
   ]
  },
  {
   "cell_type": "code",
   "execution_count": 5,
   "metadata": {},
   "outputs": [],
   "source": [
    "logs = glob.glob(settings[\"gen_csv\"][\"paths\"][\"csv_log\"])\n",
    "csvs = glob.glob(settings[\"gen_csv\"][\"paths\"][\"csv_out\"])\n",
    "for log in logs:\n",
    "    \n",
    "    process = Popen(settings['gen_csv']['process']+log+ \" --csv \"+log.strip(\".log\")+\".csv\", shell=True, stdout=PIPE, stderr=PIPE)\n",
    "    stdout, stderr = process.communicate()\n",
    "csvs = glob.glob(settings[\"gen_csv\"][\"paths\"][\"csv_out\"])\n",
    "sim_log = pd.read_csv(csvs[0])\n",
    "sim_log['mode'] = sim_log['mode'].astype('Int64')\n",
    "sim_log['gpr'] = sim_log['gpr'].astype('str')\n",
    "sim_log['csr'] = sim_log['csr'].astype('str')\n",
    "#Mask LSB with 0 to contend with gaisler not supporting pmp_g = 0\n",
    "#sim_log['gpr'] = sim_log[(sim_log.gpr != \"nan\") & sim_log.gpr.ne(rtl_log.gpr)].gpr.apply(lambda x: \"{}:{:016x}\".format(x.split(\":\")[0],int(x.split(\":\")[1],16) & int(\"FFFE\",16)))\n",
    "#sim_log['gpr'] = sim_log['gpr'].astype('str')\n"
   ]
  },
  {
   "cell_type": "markdown",
   "metadata": {},
   "source": [
    "## Compare series to see if run was successful"
   ]
  },
  {
   "cell_type": "code",
   "execution_count": 6,
   "metadata": {},
   "outputs": [
    {
     "name": "stdout",
     "output_type": "stream",
     "text": [
      "Truncating rtl_log to 99265 elements to meet size of sim_log\n",
      "GPR, Binary, PC and CSR contents match\n",
      "Ignored 98.5% CSR and 72.5% of GPR comparisons\n"
     ]
    }
   ],
   "source": [
    "#Truncation\n",
    "if(abs(len(sim_log)-len(rtl_log) < 100)):\n",
    "    if(len(sim_log) < len(rtl_log)):\n",
    "        rtl_log=rtl_log.truncate(after=len(sim_log)-1)\n",
    "        print(\"Truncating rtl_log to {} elements to meet size of sim_log\".format(len(rtl_log)))\n",
    "    elif(len(sim_log) == len(rtl_log)):\n",
    "        print(\"Both logs are equally sized\")\n",
    "\n",
    "    else:\n",
    "        sim_log=sim_log.truncate(after=len(rtl_log)-1)\n",
    "        print(\"Truncating sim_log to {} elements to meet size of rtl_log\".format(len(rtl_log)))\n",
    "else:\n",
    "    raise RuntimeError(\"Lengths of series differs with \"+str(abs(len(sim_log)-len(rtl_log)))+\" elements\") \n",
    "\n",
    "#Csr match conditions\n",
    "mt_csr_0 = sim_log.csr != \"nan\"\n",
    "\n",
    "    \n",
    "rtl_csr = rtl_log[(rtl_log.csr.ne(sim_log.csr) & mt_csr_0)].csr #these are the ones we can't exclude directly\n",
    "sim_csr = sim_log[rtl_log.csr.ne(sim_log.csr) & mt_csr_0].csr.str.split(\";\") \n",
    "csr_match_count = compare_csr(sim_csr, rtl_csr)\n",
    "\n",
    "mt_csr_1 = csr_information_present(sim_csr,rtl_csr) #ignore csr comparisons where for example mstatus is present the iss but not in the rtl log\n",
    "\n",
    "\n",
    "\n",
    "matching_gpr = len(sim_log[(sim_log.gpr != \"nan\") & (rtl_log.gpr == sim_log.gpr)])\n",
    "nan_cnt_gpr = len(sim_log[sim_log.gpr == \"nan\"])\n",
    "\n",
    "\n",
    "rtl_csr = rtl_log[(rtl_log.csr.ne(sim_log.csr) & mt_csr_0)].csr #these are the ones we can't exclude directly\n",
    "sim_csr = sim_log[rtl_log.csr.ne(sim_log.csr) & mt_csr_0].csr.str.split(\";\") \n",
    "csr_match_count = compare_csr(sim_csr, rtl_csr)\n",
    "\n",
    "#these csrs only contain one update to the csr, however, where ovpsim reports more than one update we use csr_match_count\n",
    "matching_csr = sim_log[((sim_log.csr != \"nan\")) & (rtl_log.csr.eq(sim_log.csr))].csr.count() + csr_match_count\n",
    "nan_cnt_csr = sim_log[(sim_log.csr == \"nan\")].csr.count() + mt_csr_1[mt_csr_1 == False].count()\n",
    "\n",
    "\n",
    "tot_cnt_gpr = matching_gpr + nan_cnt_gpr\n",
    "gpr_match = (tot_cnt_gpr == len(rtl_log.gpr))\n",
    "binary_match = rtl_log.binary.eq(sim_log.binary).all()\n",
    "pc_match = rtl_log.pc.eq(sim_log.pc).all()\n",
    "\n",
    "csr_match = (matching_csr+nan_cnt_csr == len(rtl_log.csr))\n",
    "\n",
    "if(gpr_match and binary_match and pc_match and csr_match):\n",
    "    print(\"GPR, Binary, PC and CSR contents match\\nIgnored {:.1%} CSR and {:.1%} of GPR comparisons\".format(nan_cnt_csr/rtl_log.csr.count(),nan_cnt_gpr/rtl_log.gpr.count()))\n",
    "else:\n",
    "    print(\"PC match: {}\\nBinary match: {}\\nGPR match: {}\\nCSR match: {}\\nIgnored {:.1%} CSR and {:.1%} of GPR comparisons\".format(pc_match,binary_match,gpr_match,csr_match,nan_cnt_csr/rtl_log.csr.count(),nan_cnt_gpr/rtl_log.gpr.count()))\n"
   ]
  },
  {
   "cell_type": "code",
   "execution_count": 28,
   "metadata": {},
   "outputs": [
    {
     "data": {
      "text/plain": [
       "'0'"
      ]
     },
     "execution_count": 28,
     "metadata": {},
     "output_type": "execute_result"
    }
   ],
   "source": [
    "columns = [\"Test\",'Iteration','Date','GPR Pass','CSR Pass','PC Pass','Binary Pass','Test Path','RTL Log Path','ISS Log Path','ISS Snippet','Number of Faults']\n",
    "errors = pd.DataFrame(columns=columns)\n",
    "# errors['Test'] = tests[test_number]\n",
    "# errors['Iteration'] = settings['gen_test']['iteration']\n",
    "# errors['Date'] = current_date\n",
    "# errors['GPR Pass'] = gpr_match\n",
    "# errors['PC Pass'] = pc_match\n",
    "# errors['Binary Pass'] = binary_match\n",
    "# errors['CSR Pass'] = csr_match\n",
    "\n",
    "\n",
    "# \"Test\" = name of test,\n",
    "# 'Iteration' = Which iteration failed,\n",
    "# 'Date' = Date of Failure,\n",
    "# 'GPR Pass' = Boolean,\n",
    "# 'CSR Pass' = Boolean,\n",
    "# 'PC Pass' += Boolean,\n",
    "# 'Binary Pass' = Boolean,\n",
    "# 'Test Path' = Full path to where asm files are located,\n",
    "# 'RTL Log Path' = Full path to RTL trace,\n",
    "# 'ISS Log Path' = Full path to ISS trace,\n",
    "# 'ISS Snippet' = ISS Reference output for diverging trace,\n",
    "# 'RTL Snippet' = RTL trace for the diverging lines\n",
    "# rtl_log.to_csv('/home/jonathanjonsson/Documents/test_log.csv',mode='a')"
   ]
  },
  {
   "cell_type": "code",
   "execution_count": null,
   "metadata": {},
   "outputs": [],
   "source": [
    "## Coverage results\n",
    "\n",
    "path = glob.glob(settings[\"gen_cov\"][\"paths\"][\"logs\"])\n",
    "process = Popen(settings[\"gen_cov\"][\"process_param\"]+settings[\"gen_cov\"][\"test_param\"]+\" --dir \"+path[0], shell=True, stdout=PIPE, stderr=PIPE)\n",
    "\n",
    "stdout, stderr = process.communicate()\n",
    "cov_out = stdout.decode('ascii')\n",
    "cov_err = stderr.decode('ascii')\n",
    "if(find_success(settings['gen_cov']['test_sucess'],cov_err)):\n",
    "    print(\"Coverage results produced successfully\")\n",
    "else:\n",
    "    print(cov_err)\n"
   ]
  }
 ],
 "metadata": {
  "kernelspec": {
   "display_name": "Python 3",
   "language": "python",
   "name": "python3"
  },
  "language_info": {
   "codemirror_mode": {
    "name": "ipython",
    "version": 3
   },
   "file_extension": ".py",
   "mimetype": "text/x-python",
   "name": "python",
   "nbconvert_exporter": "python",
   "pygments_lexer": "ipython3",
   "version": "3.6.12"
  }
 },
 "nbformat": 4,
 "nbformat_minor": 4
}
