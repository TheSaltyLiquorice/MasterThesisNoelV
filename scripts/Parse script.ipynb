{
 "cells": [
  {
   "cell_type": "code",
   "execution_count": 1,
   "metadata": {},
   "outputs": [],
   "source": [
    "import re\n",
    "import os\n",
    "import numpy as np\n",
    "import glob\n",
    "from tqdm import tqdm\n",
    "import pandas as pd\n",
    "from subprocess import Popen, PIPE, call, check_call\n",
    "import datetime\n",
    "import shutil\n",
    "from datetime import datetime\n",
    "import time\n",
    "\n",
    "from help_functions import replace_gpr #user def\n",
    "from lut import tests #user def \n"
   ]
  },
  {
   "cell_type": "code",
   "execution_count": 32,
   "metadata": {},
   "outputs": [],
   "source": [
    "def csr_information_present(sim_csr,rtl_csr):\n",
    "    arr = np.empty((sim_csr.count(),2),dtype=int)\n",
    "    count = 0\n",
    "    for idx, value in sim_csr.items():\n",
    "        #print(\"idx = \"+str(idx)+\"\\n-------------------------------\")\n",
    "        for sub_idx, sub_val in enumerate(value):\n",
    "            csr_key = sub_val.split(\":\")[0]\n",
    "            cmp = csr_key == rtl_csr[idx].split(\":\")[0]\n",
    "            arr[count] = [str(idx),bool(cmp)]\n",
    "        count+=1\n",
    "    return pd.Series(data=arr[:,1], index=arr[:,0]).astype(bool)\n",
    "def compare_csr(sim_csr,rtl_csr):\n",
    "    count = 0\n",
    "    for idx, scsr in sim_csr.items():\n",
    "        if(scsr.count(rtl_csr[idx]) == 1):\n",
    "            count+=1\n",
    "    return count"
   ]
  },
  {
   "cell_type": "code",
   "execution_count": 31,
   "metadata": {},
   "outputs": [],
   "source": [
    "#break execution if error is found\n",
    "def find_error(txt,pattern):\n",
    "    if(type(txt) == list):        \n",
    "        for t in txt:\n",
    "            if(t.find(pattern) != -1):\n",
    "                raise RuntimeError(pattern)\n",
    "    elif(type(txt) == str):\n",
    "        if(txt.find(pattern) != -1):\n",
    "            raise RuntimeError(pattern)\n",
    "    else:\n",
    "        return False\n",
    "def find_success(txt,pattern):\n",
    "    if(type(txt) == list):        \n",
    "        for t in txt:\n",
    "            if(t.find(pattern) == -1):\n",
    "                return True\n",
    "        return False\n",
    "    elif(type(txt) == str):\n",
    "        if(txt.find(pattern) == -1):\n",
    "            return True\n",
    "        else:\n",
    "            return False\n",
    "        "
   ]
  },
  {
   "cell_type": "markdown",
   "metadata": {},
   "source": [
    "## General defines, paths etc"
   ]
  },
  {
   "cell_type": "code",
   "execution_count": 36,
   "metadata": {},
   "outputs": [
    {
     "name": "stdout",
     "output_type": "stream",
     "text": [
      "Running the test: riscv_arithmetic_basic_test\n"
     ]
    }
   ],
   "source": [
    "transcript_path = os.environ['NOELV']\n",
    "grlib_path = os.environ['GRLIB']\n",
    "riscv_dv = os.environ['r_dv']+\"/\"\n",
    "\n",
    "test_number = 0\n",
    "print(\"Running the test: {}\".format(tests[test_number]))\n",
    "now = datetime.now()\n",
    "current_time = now.strftime(\"%Y-%m-%d\")\n",
    "finish_after = int(1e5)\n",
    "boot_loader_length = 41\n",
    "instr_cnt = finish_after+boot_loader_length+2 #+41 to account for bootloader, +2 for counter trailing"
   ]
  },
  {
   "cell_type": "code",
   "execution_count": 47,
   "metadata": {},
   "outputs": [],
   "source": [
    "#Each level correponds to one cell\n",
    "settings = {\n",
    "    \"gen_test\":{\n",
    "        \"errors\":[\"You do not have a valid license to run Riviera-PRO\"],\n",
    "        \"paths\":{\n",
    "            \"tes\":riscv_dv+\"out_\"+current_time+\"/ovpsim_sim/\"+tests[test_number]+\"*.log\",\n",
    "            \"Makefile\":grlib_path+\"/designs/noelv-generic/Makefile\",\n",
    "        },\n",
    "        \"test_param\" : \"python3 run.py --custom_target target/rv64_noelv/ --iss ovpsim --simulator riviera --isa rv64gc --mabi lp64 --test \"+tests[test_number]+\" --iterations 1\",\n",
    "        \"process_param\" : 'cd '+riscv_dv+' && source ~/.bashrc && module load aldec/riviera/2021.10 &&',\n",
    "        \"timeout\" : False,\n",
    "        \"arg_timeout\" : \"-gdisas=1 -gfinish_after_en=1 -gfinish_after=\"+str(instr_cnt),\n",
    "        \"arg_no_timeout\" : \"-gdisas=1 -gfinish_after_en=0 -gfinish_after=0\",\n",
    "    },\n",
    "    \"run_rtl\":{\n",
    "        \"paths\":{\n",
    "            \"cp_dest\":transcript_path+'ram.srec',\n",
    "            \"rtl_log\":riscv_dv+\"out_\"+current_time+\"/rtl_log/\",\n",
    "            \"rtl_log_out\":riscv_dv+\"out_\"+current_time+\"/rtl_log/\"+tests[test_number],\n",
    "            \"transcript\":transcript_path+\"transcript\",\n",
    "            \n",
    "        },\n",
    "        \"test\":riscv_dv+\"out_\"+current_time+\"/asm_test/\"+tests[test_number]+\"*.srec\",\n",
    "        \"process_param\":'cd '+transcript_path+' && source ~/.bashrc && module add mentor/questasim/2021.3 && make sim-run',\n",
    "        \"test_sucess\":[\"# ** Failure: *** IU in error mode, simulation halted ***\",\"Test finished after\",\"** Failure: Assertion violation.\"],\n",
    "    },\n",
    "    \"parse_rtl\":{\n",
    "        \"reg_ex\":{\n",
    "            \"lookup\":re.compile(\"#\\s*\\d*\\s*ns\\s*:\\sC\\d I\\d : \\d*\\s*\\[\\d\\] @0x[0-9a-fA-F]{16} \\(0x[0-9a-fA-F]{4,8}\\)\\s*.*\"),\n",
    "            \"pc_csr_status_tval\":re.compile(\"[0-9a-fA-F]{16}|X{16}\"),\n",
    "            \"binary\" : re.compile(\"(?<=(\\(0x))[a0-z9]{4,8}(?=\\))\"), #opcode\n",
    "            \"instruction\" : re.compile(\"\\w{2,8}(?=(\\s\\w{2,3},))|(\\w*\\.[a-z])|nop|mret|ecall|fence|unknown instruction|ebreak|fld\"),\n",
    "            \"instr_str\" : re.compile(\"\\w*\\s\\w*,\\s\\w*,\\s-?\\w*(?=\\s*W)|\\w*(?=\\s*W)|\\w*\\s\\w*,\\s\\w*(?=\\s*W)\"), #ugly\n",
    "            \"gpr\" : re.compile(\"(?<=([a-z]{2}\\s))\\w{2,3}(?=,)\"),\n",
    "            \"op1\" : re.compile(\"(?<=,\\s)\\w{1,8}((?=,)|(?=\\s*W))|0\\(\\w{2,3}\\)\"), \n",
    "            \"op2\" : re.compile(\"(\\w*,\\s\\w*,\\s-?\\w*)\"), #use split to get op2, don't have a nicer regex atm\n",
    "            \"csr\" : re.compile(\"\\w*(?=\\s*=\\w*\\]\\[\\d\\]\\sIPC)\"),\n",
    "            \"mode\" : re.compile(\"(?<=PRV\\[)\\d*\"),\n",
    "            \"valid\" : re.compile(\"(?<=\\[)\\d(?=\\]\\s@)\"),\n",
    "            \"exception\" : re.compile(\"(?<=\\[)\\d(?=\\]\\sPRV)\"),\n",
    "        },\n",
    "        \"columns\":['pc','instr','gpr','csr','binary','mode','instr_str','operand','valid','exception'],\n",
    "\n",
    "    },\n",
    "    \"gen_csv\":{\n",
    "        \"paths\":{\n",
    "            \"csv_log\":riscv_dv+\"out_\"+current_time+\"/ovpsim_sim/\"+tests[test_number]+\"*.log\",\n",
    "            \"csv_out\":riscv_dv+\"out_\"+current_time+\"/ovpsim_sim/\"+tests[test_number]+\"*.csv\",  \n",
    "        },\n",
    "        \"process\":\"python3 \"+riscv_dv+\"scripts/ovpsim_log_to_trace_csv.py --dont_truncate_after_first_ecall --log \",\n",
    "\n",
    "    }\n",
    "    \n",
    "}\n",
    "#pc_csr_status_tval_re = re.compile(\"[0-9a-fA-F]{16}|X{16}\")\n",
    "\n",
    "\n",
    "\n",
    "\n"
   ]
  },
  {
   "cell_type": "markdown",
   "metadata": {},
   "source": [
    "## Generate RISCV-DV tests and run OVPsim\n",
    "- Tests that work: 0\n",
    "- Tests that sometimes timeout but sometimes doesn't: 1, 2, 10\n",
    "- Tests that doesn't run at all (sometimes): 1, 2, 5, 6, 8, 9 (Never enters program after running the bootloader)\n",
    "- Test 7 seems to outright fail"
   ]
  },
  {
   "cell_type": "code",
   "execution_count": 38,
   "metadata": {},
   "outputs": [
    {
     "name": "stdout",
     "output_type": "stream",
     "text": [
      "OVPsim timeout = False\n"
     ]
    }
   ],
   "source": [
    "process = Popen(settings['gen_test']['process_param']+settings[\"gen_test\"][\"test_param\"], shell=True, stdout=PIPE, stderr=PIPE)\n",
    "\n",
    "stdout, stderr = process.communicate()\n",
    "timeout = False\n",
    "error = stderr.decode('ascii')\n",
    "\n",
    "if(find_error(settings['gen_test']['errors'], error)):\n",
    "    with open(settings['gen_test']['paths'][\"test\"],\"r\") as f:\n",
    "        settings['gen_test']['timeout'] = f.read().find(\"Info \"+str(finish_after)+\":\") != -1\n",
    "        f.close()\n",
    "        \n",
    "arg = settings[\"gen_test\"][\"arg_timeout\"] if settings[\"gen_test\"][\"timeout\"] else settings[\"gen_test\"][\"arg_no_timeout\"]\n",
    "\n",
    "with open(settings['gen_test']['paths']['Makefile'],\"r\") as f:\n",
    "    txt = f.read()\n",
    "    tmp = re.sub(\"(?<=VSIMOPT=).*\",arg,txt)\n",
    "    f.close()\n",
    "    f = open(settings['gen_test']['paths']['Makefile'],\"w\")\n",
    "    f.write(tmp)\n",
    "    f.close()\n",
    "    \n",
    "print(\"OVPsim timeout = {}\".format(timeout))"
   ]
  },
  {
   "cell_type": "markdown",
   "metadata": {},
   "source": [
    "## Run RTL simulation\n"
   ]
  },
  {
   "cell_type": "code",
   "execution_count": 39,
   "metadata": {},
   "outputs": [
    {
     "name": "stdout",
     "output_type": "stream",
     "text": [
      "Copied ['/home/jonathanjonsson/MasterThesis/riscv-dv/out_2022-03-02/asm_test/riscv_arithmetic_basic_test_0.srec'] to the NOELV directory\n",
      "RTL Simulation Success\n"
     ]
    },
    {
     "data": {
      "text/plain": [
       "'/home/jonathanjonsson/MasterThesis/riscv-dv/out_2022-03-02/rtl_log/riscv_arithmetic_basic_test_0.rtl.log'"
      ]
     },
     "execution_count": 39,
     "metadata": {},
     "output_type": "execute_result"
    }
   ],
   "source": [
    "srec_tests = glob.glob(settings['run_rtl']['test'])\n",
    "shutil.copy(srec_tests[0], settings['run_rtl']['paths']['cp_dest']) #copy the current test to the sim dir\n",
    "print(\"Copied {} to the NOELV directory\".format(srec_tests))\n",
    "#launch sim\n",
    "process = Popen(settings['run_rtl']['process_param'], shell=True, stdout=PIPE, stderr=PIPE)\n",
    "stdout, stderr = process.communicate()\n",
    "rtl_out = stdout.decode('ascii')\n",
    "\n",
    "\n",
    "if(find_success(settings['run_rtl']['test_sucess'],rtl_out)):\n",
    "    print(\"RTL Simulation Success\")\n",
    "else:\n",
    "    print(\"RTL Simulation Failed\")\n",
    "\n",
    "if not os.path.exists(settings['run_rtl']['paths']['rtl_log']):\n",
    "    os.mkdir(settings['run_rtl']['paths']['rtl_log'])\n",
    "shutil.copy(settings['run_rtl']['paths']['transcript'], settings['run_rtl']['paths']['rtl_log_out']+\"_\"+re.search(\"\\d*(?=.srec)\",str(srec_tests)).group(0)+\".rtl.log\")"
   ]
  },
  {
   "cell_type": "code",
   "execution_count": 34,
   "metadata": {},
   "outputs": [
    {
     "data": {
      "text/plain": [
       "True"
      ]
     },
     "execution_count": 34,
     "metadata": {},
     "output_type": "execute_result"
    }
   ],
   "source": [
    "settings['run_rtl']['test_sucess']\n",
    "find_success(settings['run_rtl']['test_sucess'],rtl_out)"
   ]
  },
  {
   "cell_type": "markdown",
   "metadata": {},
   "source": [
    "## Parse RTL transcript and create rtl_log"
   ]
  },
  {
   "cell_type": "code",
   "execution_count": 40,
   "metadata": {},
   "outputs": [
    {
     "name": "stderr",
     "output_type": "stream",
     "text": [
      "100%|██████████| 16186/16186 [00:02<00:00, 6399.64it/s]\n",
      "100%|██████████| 12292/12292 [00:00<00:00, 441691.02it/s]\n"
     ]
    }
   ],
   "source": [
    "match = 0\n",
    "f = open(settings[\"run_rtl\"][\"paths\"][\"transcript\"])\n",
    "transcript = f.readlines()\n",
    "f.close()\n",
    "\n",
    "pc = []\n",
    "binary = []\n",
    "instr = []\n",
    "instr_str = []\n",
    "gpr = []\n",
    "csr = []\n",
    "gpr_val = []\n",
    "op_0 = []\n",
    "op_1 = []\n",
    "status = []\n",
    "tval = []\n",
    "mode = []\n",
    "exception = []\n",
    "valid = []\n",
    "\n",
    "\n",
    "for line in tqdm(transcript):\n",
    "    if(re.search(settings[\"parse_rtl\"][\"reg_ex\"][\"lookup\"],line)): #check that line conforms to format then extract information\n",
    "        valid.append(re.search(settings['parse_rtl']['reg_ex']['valid'], line).group(0))\n",
    "                \n",
    "        pc_i = re.search(settings['parse_rtl']['reg_ex'][\"pc_csr_status_tval\"], line)\n",
    "        if(pc_i):\n",
    "            pc.append(pc_i.group(0))\n",
    "        else:\n",
    "            print(line)\n",
    "            break\n",
    "        binary.append(re.search(settings['parse_rtl']['reg_ex'][\"binary\"], line).group(0))\n",
    "        instruction = re.search(settings['parse_rtl']['reg_ex']['instruction'], line)\n",
    "        if(instruction):\n",
    "            instr.append(instruction.group(0))\n",
    "        else:\n",
    "            raise RuntimeError(\"Instruction not present in RegEx\\n\"+line)\n",
    "        instr_str.append(re.search(settings['parse_rtl']['reg_ex'][\"instr_str\"], line).group(0))\n",
    "        match3 = re.search(settings['parse_rtl']['reg_ex'][\"gpr\"], line)\n",
    "        if(match3):\n",
    "            gpr.append(match3.group(0))\n",
    "        else:\n",
    "            gpr.append(\"\")\n",
    "        match4 = re.search(settings['parse_rtl']['reg_ex'][\"op1\"], line)\n",
    "        if(match4):\n",
    "            op_0.append(match4.group(0))\n",
    "        else:\n",
    "            op_0.append(\"\")\n",
    "        match5 = re.search(settings['parse_rtl']['reg_ex'][\"op2\"],line)\n",
    "        if(match5):\n",
    "            op_1.append(match5.group(0).split(\", \")[2])\n",
    "        else:\n",
    "            op_1.append(\"\")\n",
    "        match6 = re.search(settings['parse_rtl']['reg_ex'][\"csr\"],line)\n",
    "        if(match6):\n",
    "            csr.append(match6.group(0))\n",
    "        else:\n",
    "            print(line)\n",
    "            raise RuntimeError(\"CSR RegEx not complete\")\n",
    "\n",
    "        match7 = re.findall(pc_csr_status_tval_re,line)\n",
    "        if(len(match7) == 3):\n",
    "            print(match7)\n",
    "            print(line)\n",
    "        gpr_val.append(match7[1])\n",
    "        status.append(match7[2])\n",
    "        tval.append(match7[3])\n",
    "        mode.append(re.search(settings['parse_rtl']['reg_ex'][\"mode\"],line).group(0))\n",
    "        exception.append(re.search(settings['parse_rtl']['reg_ex'][\"exception\"],line).group(0))\n",
    "\n",
    "\n",
    "\n",
    "columns = settings['parse_rtl']['columns']\n",
    "rtl_log = pd.DataFrame(columns=columns)\n",
    "rtl_log[columns[0]] = pc\n",
    "rtl_log[columns[1]] = instr\n",
    "rtl_log[columns[2]] = pd.Series(gpr) +\":\"+ pd.Series(gpr_val)\n",
    "rtl_log[columns[3]] = pd.Series(csr) +\":\"+ pd.Series(status)\n",
    "rtl_log[columns[4]] = binary\n",
    "rtl_log[columns[5]] = mode\n",
    "rtl_log[columns[6]] = instr_str\n",
    "rtl_log[columns[7]] = pd.Series(gpr)+\",\"+pd.Series(op_0)+\",\"+pd.Series(op_1)\n",
    "rtl_log[columns[8]] = valid\n",
    "rtl_log[columns[9]] = exception\n",
    "#log[columns[9]] = tval\n",
    "rtl_log = rtl_log[boot_loader_length:].reset_index(drop=True) #boot_loader_length is where the bootloader ends\n",
    "def replace_gpr(pd_series,gpr,re_gpr):\n",
    "    tmp = []\n",
    "    for line in tqdm(pd_series):\n",
    "        split_line = line.split(\":\")\n",
    "        if(len(split_line[0]) > 0 and split_line[0] == gpr):\n",
    "            split_line[0] = re_gpr\n",
    "        ln = split_line[0]+\":\"+split_line[1]\n",
    "        tmp.append(ln)\n",
    "    return pd.Series(tmp)\n",
    "rtl_log.gpr = replace_gpr(rtl_log.gpr, 'fp','s0') #replace fp with s0 to keep convention consistent\n",
    "rtl_log['valid'] = rtl_log['valid'].astype('int32') #not true when we have an exception (ecall for instance)\n",
    "#rtl_log = rtl_log[rtl_log.valid == 1].reset_index(drop=True) #only keep valid instructions\n",
    "rtl_log = rtl_log[~((rtl_log['instr'] == \"addi\") & (rtl_log.shift(1)['instr'] == \"mret\") & (rtl_log['valid'] == 0))].reset_index(drop=True) #deal with gaislers addi injection after mret, this removes all of those lines\n"
   ]
  },
  {
   "cell_type": "markdown",
   "metadata": {},
   "source": [
    "## Convert OVPsimlog to csv"
   ]
  },
  {
   "cell_type": "code",
   "execution_count": 53,
   "metadata": {},
   "outputs": [],
   "source": [
    "logs = glob.glob(settings[\"gen_csv\"][\"paths\"][\"csv_log\"])\n",
    "csvs = glob.glob(settings[\"gen_csv\"][\"paths\"][\"csv_out\"])\n",
    "for log in logs:\n",
    "    \n",
    "    process = Popen(settings['gen_csv']['process']+log+ \" --csv \"+log.strip(\".log\")+\".csv\", shell=True, stdout=PIPE, stderr=PIPE)\n",
    "    stdout, stderr = process.communicate()\n",
    "csvs = glob.glob(settings[\"gen_csv\"][\"paths\"][\"csv_out\"])\n",
    "sim_log = pd.read_csv(csvs[0])\n",
    "sim_log['mode'] = sim_log['mode'].astype('Int64')\n",
    "sim_log['gpr'] = sim_log['gpr'].astype('str')\n",
    "sim_log['csr'] = sim_log['csr'].astype('str')\n",
    "#Mask LSB with 0 to contend with gaisler not supporting pmp_g = 0\n",
    "#sim_log['gpr'] = sim_log[(sim_log.gpr != \"nan\") & sim_log.gpr.ne(rtl_log.gpr)].gpr.apply(lambda x: \"{}:{:016x}\".format(x.split(\":\")[0],int(x.split(\":\")[1],16) & int(\"FFFE\",16)))\n",
    "#sim_log['gpr'] = sim_log['gpr'].astype('str')\n",
    "\n",
    "\n",
    "if(not timeout):\n",
    "    sim_log = sim_log.truncate(after=len(sim_log)-2) #exit sequence slightly different between the rtl_sim and ovpsim"
   ]
  },
  {
   "cell_type": "markdown",
   "metadata": {},
   "source": [
    "## Compare series to see if run was successfull"
   ]
  },
  {
   "cell_type": "code",
   "execution_count": 54,
   "metadata": {},
   "outputs": [
    {
     "name": "stdout",
     "output_type": "stream",
     "text": [
      "Truncating rtl_log to 12287 elements to meet size of sim_log\n",
      "GPR, Binary, PC and CSR contents match\n",
      "Ignored 100.0% CSR and 38.1% of GPR comparisons\n"
     ]
    }
   ],
   "source": [
    "#Truncation\n",
    "if(abs(len(sim_log)-len(rtl_log) < 100)):\n",
    "    if(len(sim_log) < len(rtl_log)):\n",
    "        rtl_log=rtl_log.truncate(after=len(sim_log)-1)\n",
    "        print(\"Truncating rtl_log to {} elements to meet size of sim_log\".format(len(rtl_log)))\n",
    "    elif(len(sim_log) == len(rtl_log)):\n",
    "        print(\"Both logs are equally sized\")\n",
    "\n",
    "    else:\n",
    "        sim_log=sim_log.truncate(after=len(rtl_log)-1)\n",
    "        print(\"Truncating sim_log to {} elements to meet size of rtl_log\".format(len(rtl_log)))\n",
    "else:\n",
    "    raise RuntimeError(\"Lengths of series differs with \"+str(abs(len(sim_log)-len(rtl_log)))+\" elements\") \n",
    "\n",
    "#Csr match conditions\n",
    "mt_csr_0 = sim_log.csr != \"nan\"\n",
    "\n",
    "    \n",
    "rtl_csr = rtl_log[(rtl_log.csr.ne(sim_log.csr) & mt_csr_0)].csr #these are the ones we can't exclude directly\n",
    "sim_csr = sim_log[rtl_log.csr.ne(sim_log.csr) & mt_csr_0].csr.str.split(\";\") \n",
    "csr_match_count = compare_csr(sim_csr, rtl_csr)\n",
    "\n",
    "mt_csr_1 = csr_information_present(sim_csr,rtl_csr) #ignore csr comparisons where for example mstatus is present the iss but not in the rtl log\n",
    "\n",
    "\n",
    "\n",
    "matching_gpr = len(sim_log[(sim_log.gpr != \"nan\") & (rtl_log.gpr == sim_log.gpr)])\n",
    "nan_cnt_gpr = len(sim_log[sim_log.gpr == \"nan\"])\n",
    "\n",
    "\n",
    "rtl_csr = rtl_log[(rtl_log.csr.ne(sim_log.csr) & mt_csr_0)].csr #these are the ones we can't exclude directly\n",
    "sim_csr = sim_log[rtl_log.csr.ne(sim_log.csr) & mt_csr_0].csr.str.split(\";\") \n",
    "csr_match_count = compare_csr(sim_csr, rtl_csr)\n",
    "\n",
    "#these csrs only contain one update to the csr, however, where ovpsim reports more than one update we use csr_match_count\n",
    "matching_csr = sim_log[((sim_log.csr != \"nan\")) & (rtl_log.csr.eq(sim_log.csr))].csr.count() + csr_match_count\n",
    "nan_cnt_csr = sim_log[(sim_log.csr == \"nan\")].csr.count() + mt_csr_1[mt_csr_1 == False].count()\n",
    "\n",
    "\n",
    "tot_cnt_gpr = matching_gpr + nan_cnt_gpr\n",
    "gpr_match = (tot_cnt_gpr == len(rtl_log.gpr))\n",
    "binary_match = rtl_log.binary.eq(sim_log.binary).all()\n",
    "pc_match = rtl_log.pc.eq(sim_log.pc).all()\n",
    "\n",
    "csr_match = (matching_csr+nan_cnt_csr == len(rtl_log.csr))\n",
    "\n",
    "if(gpr_match and binary_match and pc_match and csr_match):\n",
    "    print(\"GPR, Binary, PC and CSR contents match\\nIgnored {:.1%} CSR and {:.1%} of GPR comparisons\".format(nan_cnt_csr/rtl_log.csr.count(),nan_cnt_gpr/rtl_log.gpr.count()))\n",
    "else:\n",
    "    print(\"PC match: {}\\nBinary match: {}\\nGPR match: {}\\nCSR match: {}\\nIgnored {:.1%} CSR and {:.1%} of GPR comparisons\".format(pc_match,binary_match,gpr_match,csr_match,nan_cnt_csr/rtl_log.csr.count(),nan_cnt_gpr/rtl_log.gpr.count()))"
   ]
  }
 ],
 "metadata": {
  "kernelspec": {
   "display_name": "Python 3",
   "language": "python",
   "name": "python3"
  },
  "language_info": {
   "codemirror_mode": {
    "name": "ipython",
    "version": 3
   },
   "file_extension": ".py",
   "mimetype": "text/x-python",
   "name": "python",
   "nbconvert_exporter": "python",
   "pygments_lexer": "ipython3",
   "version": "3.6.12"
  }
 },
 "nbformat": 4,
 "nbformat_minor": 4
}
